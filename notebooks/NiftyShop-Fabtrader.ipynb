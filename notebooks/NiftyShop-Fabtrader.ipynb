{
 "cells": [
  {
   "cell_type": "code",
   "execution_count": 24,
   "metadata": {
    "executionInfo": {
     "elapsed": 718,
     "status": "ok",
     "timestamp": 1755107867523,
     "user": {
      "displayName": "abhilash nanda",
      "userId": "17238874832246123978"
     },
     "user_tz": -330
    },
    "id": "kUV3wR62-bk"
   },
   "outputs": [],
   "source": [
    "import pandas as pd\n",
    "\n",
    "url = 'https://en.wikipedia.org/wiki/NIFTY_50'\n",
    "tables = pd.read_html(url)\n",
    "nifty50_df = tables[1]\n",
    "\n",
    "tickers = [f\"NSE:{t}-EQ\" for t in nifty50_df['Symbol'].to_list()]"
   ]
  },
  {
   "cell_type": "code",
   "execution_count": 25,
   "metadata": {
    "colab": {
     "base_uri": "https://localhost:8080/"
    },
    "executionInfo": {
     "elapsed": 22666,
     "status": "ok",
     "timestamp": 1755107891283,
     "user": {
      "displayName": "abhilash nanda",
      "userId": "17238874832246123978"
     },
     "user_tz": -330
    },
    "id": "JzbFDktrVkjF",
    "outputId": "73266f45-1282-495e-d581-d5e826e5a6ca"
   },
   "outputs": [
    {
     "name": "stderr",
     "output_type": "stream",
     "text": [
      "Downloading data: 100%|██████████| 50/50 [00:00<00:00, 124018.45ticker/s]\n",
      "Loading 1Dmin data: 100%|██████████| 50/50 [00:00<00:00, 59.55it/s]\n"
     ]
    }
   ],
   "source": [
    "from fyers_helper import prepare_data, load_stock_data\n",
    "import datetime as dt\n",
    "\n",
    "data_path = \"/workspaces/codespaces-jupyter/data\"\n",
    "\n",
    "end_date = dt.datetime.now()\n",
    "start_date = dt.datetime(2015, 1, 1)\n",
    "\n",
    "file_paths = prepare_data(tickers, \"1D\", start_date=start_date, end_date=end_date, path=data_path, overwrite=False)\n",
    "loaded_data = load_stock_data(file_paths, data_path, \"1D\")"
   ]
  },
  {
   "cell_type": "code",
   "execution_count": 26,
   "metadata": {
    "executionInfo": {
     "elapsed": 3,
     "status": "ok",
     "timestamp": 1755112636961,
     "user": {
      "displayName": "abhilash nanda",
      "userId": "17238874832246123978"
     },
     "user_tz": -330
    },
    "id": "8a9814d7"
   },
   "outputs": [],
   "source": [
    "df = pd.concat(loaded_data, names=[\"Stock\", \"Date\"]).reset_index()"
   ]
  },
  {
   "cell_type": "code",
   "execution_count": 27,
   "metadata": {
    "executionInfo": {
     "elapsed": 86,
     "status": "ok",
     "timestamp": 1755112638620,
     "user": {
      "displayName": "abhilash nanda",
      "userId": "17238874832246123978"
     },
     "user_tz": -330
    },
    "id": "u3ANeqXE-fiF"
   },
   "outputs": [],
   "source": [
    "import talib as ta\n",
    "\n",
    "# Calculate RSI per stock\n",
    "df['SMA20'] = df.groupby('Stock')['Close'].transform(lambda x: ta.SMA(x, timeperiod=20))\n",
    "df['SMA20_Perc_Distance'] = (df['Close'] - df['SMA20']) / df['SMA20'] * 100\n",
    "\n",
    "df['Entry_Price'] = df.groupby('Stock')['Close'].shift(-1)\n",
    "df['Entry_Time'] = df.groupby('Stock')['Date'].shift(-1)\n",
    "\n",
    "# df = df[df.Date >= '2024-01-01 05:30:00']"
   ]
  },
  {
   "cell_type": "code",
   "execution_count": 28,
   "metadata": {
    "colab": {
     "base_uri": "https://localhost:8080/"
    },
    "executionInfo": {
     "elapsed": 6539,
     "status": "ok",
     "timestamp": 1755112647576,
     "user": {
      "displayName": "abhilash nanda",
      "userId": "17238874832246123978"
     },
     "user_tz": -330
    },
    "id": "lofTRsxmAPG5",
    "outputId": "aec4ccc7-605d-437a-b990-96c5f0a74b5d"
   },
   "outputs": [
    {
     "name": "stderr",
     "output_type": "stream",
     "text": [
      "/tmp/ipykernel_5213/960733863.py:2: FutureWarning: DataFrameGroupBy.apply operated on the grouping columns. This behavior is deprecated, and in a future version of pandas the grouping columns will be excluded from the operation. Either pass `include_groups=False` to exclude the groupings or explicitly select the grouping columns after groupby to silence this warning.\n",
      "  df[df.Close < df.SMA20].groupby('Date', group_keys=False).apply(lambda x: x.nsmallest(5, \"SMA20_Perc_Distance\"))\n"
     ]
    }
   ],
   "source": [
    "signals = (\n",
    "    df[df.Close < df.SMA20].groupby('Date', group_keys=False).apply(lambda x: x.nsmallest(5, \"SMA20_Perc_Distance\"))\n",
    "      .sort_values(['Date', 'SMA20_Perc_Distance']).reset_index(drop=True).dropna(subset=['Entry_Price'])\n",
    ")"
   ]
  },
  {
   "cell_type": "code",
   "execution_count": 72,
   "metadata": {
    "colab": {
     "base_uri": "https://localhost:8080/"
    },
    "executionInfo": {
     "elapsed": 26547,
     "status": "ok",
     "timestamp": 1755116338462,
     "user": {
      "displayName": "abhilash nanda",
      "userId": "17238874832246123978"
     },
     "user_tz": -330
    },
    "id": "pMPSGAwqHdP4",
    "outputId": "b7508d6e-4367-487e-a34b-ee3c4f72a1e8"
   },
   "outputs": [
    {
     "data": {
      "application/vnd.jupyter.widget-view+json": {
       "model_id": "d10add4af6c44e7a87f33c5397932573",
       "version_major": 2,
       "version_minor": 0
      },
      "text/plain": [
       "  0%|          | 0/2630 [00:00<?, ?it/s]"
      ]
     },
     "metadata": {},
     "output_type": "display_data"
    }
   ],
   "source": [
    "from dataclasses import dataclass, field, asdict\n",
    "from typing import List\n",
    "from uuid import uuid1\n",
    "from tqdm.notebook import tqdm\n",
    "from copy import copy\n",
    "\n",
    "leverage = 1\n",
    "tp_perc = 7\n",
    "rebalance_perc = 3\n",
    "active_positions = {}\n",
    "closed_positions = []\n",
    "initial_capital = 200000\n",
    "max_positions_num = 10\n",
    "\n",
    "class Bank:\n",
    "  initial_capital: float\n",
    "  buckets: dict = {}\n",
    "  ids: list = []\n",
    "  residue: dict = {}\n",
    "  snapshot: list = []\n",
    "  bucket_usage_count: dict = {}\n",
    "\n",
    "  def __init__(self, initial_capital, number_of_buckets = 10) -> None:\n",
    "    self.initial_capital = initial_capital\n",
    "    self.ids = [str(uuid1()).split('-')[0] for i in range(number_of_buckets)]\n",
    "    self.buckets = dict(zip(self.ids, [initial_capital/number_of_buckets] * number_of_buckets))\n",
    "\n",
    "  def borrow(self) -> tuple:\n",
    "    if len(self.buckets) == 0:\n",
    "      return None, None\n",
    "    \n",
    "    _df = pd.DataFrame(self.buckets.items(), columns=['key', 'amount']).sort_values('amount', ascending=True)\n",
    "    key = _df.iloc[0].key\n",
    "    bucket_amount = self.buckets.pop(key)\n",
    "\n",
    "    self.bucket_usage_count[key] = self.bucket_usage_count.get(key, 0) + 1\n",
    "    self._take_snapshot()\n",
    "    return key, bucket_amount\n",
    "  \n",
    "  def save_residue(self, key, amount):\n",
    "    self.residue[key] = amount\n",
    "\n",
    "  def _take_snapshot(self):\n",
    "    self.snapshot.append(copy(self.buckets))\n",
    "  \n",
    "  def settle(self, key, amount):\n",
    "    if key not in self.ids:\n",
    "      raise Exception(\"invalid key\")\n",
    "    residue = self.residue.pop(key)\n",
    "    self.buckets[key] = amount + residue\n",
    "    self._take_snapshot()\n",
    "\n",
    "\n",
    "@dataclass\n",
    "class Trade:\n",
    "  capital_key: str\n",
    "  entry_time: str\n",
    "  entry_price: float\n",
    "  quantity: int\n",
    "\n",
    "@dataclass\n",
    "class Position:\n",
    "  stock: str\n",
    "  entry_time: str\n",
    "  avg_entry_price: float = 0.0\n",
    "  quantity: int = 0\n",
    "  exit_time: str = \"\"\n",
    "  exit_price: float = 0.0\n",
    "  sl: float = 0.0\n",
    "  tp: float = 0.0\n",
    "  trades: List[Trade] = field(default_factory=list)\n",
    "  pnl: float = 0.0\n",
    "  tax: float = 0.0\n",
    "\n",
    "  def exit_margin(self):\n",
    "    return (self.exit_price * self.quantity)/leverage - self.tax\n",
    "\n",
    "  def close(self, exit_time, exit_price):\n",
    "    self.exit_time = exit_time\n",
    "    self.exit_price = exit_price\n",
    "    if self.quantity < 0:\n",
    "      print(self)\n",
    "      raise Exception(\"Quantity can't be negative\")\n",
    "    self.pnl = (exit_price - self.avg_entry_price) * self.quantity\n",
    "    self.calculate_taxes()\n",
    "\n",
    "  def calculate_taxes(self):\n",
    "    extry_taxes = 0\n",
    "    for trade in self.trades:\n",
    "      stt = abs(trade.quantity) * trade.entry_price * 0.025/100\n",
    "      transaction_charges = (abs(trade.quantity) * trade.entry_price * 0.00322/100)\n",
    "      gst = (stt + transaction_charges) * 18/100\n",
    "      extry_taxes += stt + transaction_charges + gst\n",
    "\n",
    "    transaction_charges = abs(self.quantity) * self.exit_price * 0.00322/100\n",
    "    gst = transaction_charges * 18/100\n",
    "    stamp_duty = abs(self.quantity) * self.exit_price * 0.003/100\n",
    "    exit_taxes = transaction_charges + gst + stamp_duty\n",
    "\n",
    "    self.tax = extry_taxes + exit_taxes\n",
    "\n",
    "  def rebalance_position(self):\n",
    "    total_cost = 0\n",
    "    total_qty = 0\n",
    "    for t in self.trades:\n",
    "      total_cost += t.entry_price * t.quantity\n",
    "      total_qty += t.quantity\n",
    "    if total_qty == 0:\n",
    "      print(self)\n",
    "    self.avg_entry_price = total_cost / total_qty\n",
    "    self.quantity = total_qty\n",
    "    self.tp = self.avg_entry_price * (1 + tp_perc / 100)\n",
    "\n",
    "  def add_trade(self, trade: Trade):\n",
    "    self.trades.append(trade)\n",
    "    self.rebalance_position()\n",
    "\n",
    "def select_stock_for_entry(_df: pd.DataFrame):\n",
    "  selected_stocks = []\n",
    "  for _, row in _df.iterrows():\n",
    "    if active_positions.get(row.Stock, None) is None:\n",
    "      selected_stocks.append(row)\n",
    "  return selected_stocks[0] if len(selected_stocks) > 0 else None\n",
    "\n",
    "\n",
    "def init_new_position(k, v):\n",
    "  selected_stock = select_stock_for_entry(signals[signals.Date == k])\n",
    "  if selected_stock is None:\n",
    "    return None\n",
    "    \n",
    "  key, capital = bank.borrow()\n",
    "  if key is None:\n",
    "    return None\n",
    "      \n",
    "  if selected_stock is not None:\n",
    "    qty = int(capital * leverage / selected_stock.Entry_Price)\n",
    "    if qty < 0:\n",
    "      raise Exception(\"Quantity can't be negative\")\n",
    "\n",
    "    if qty == 0:\n",
    "      return None\n",
    "    position = Position(selected_stock.Stock, selected_stock.Entry_Time)\n",
    "    trade = Trade(key, selected_stock.Entry_Time, selected_stock.Entry_Price, qty)\n",
    "    position.add_trade(trade)\n",
    "\n",
    "    bank.save_residue(key, capital - (qty * trade.entry_price) / leverage)\n",
    "    return position\n",
    "\n",
    "def avg_out_active_positions(k, v):\n",
    "  global active_positions, capital_buckets\n",
    "  if len(active_positions) == 0:\n",
    "    return\n",
    "\n",
    "  apdf = (\n",
    "      pd.DataFrame([asdict(p) for p in active_positions.values() if p is not None]).set_index('stock')\n",
    "      .join(v.rename(columns={'Stock': 'stock'}).set_index('stock')[['Close', 'Entry_Time', 'Entry_Price']])\n",
    "  )\n",
    "  apdf['perc_change'] = (apdf.Close - apdf.avg_entry_price)/apdf.avg_entry_price * 100\n",
    "  rebalance_stocks = apdf[apdf.perc_change <= -rebalance_perc].sort_values('perc_change')\n",
    "  if len(rebalance_stocks) == 0:\n",
    "    return\n",
    "\n",
    "  rebalance_stock = rebalance_stocks.iloc[0]\n",
    "  \n",
    "  key, capital = bank.borrow()\n",
    "  if key is None:\n",
    "    return\n",
    "  \n",
    "  position = active_positions[rebalance_stock.name]\n",
    "  qty = position.quantity / len(position.trades)\n",
    "\n",
    "  trade = Trade(key, rebalance_stock.Entry_Time, rebalance_stock.Entry_Price, qty)\n",
    "  position.add_trade(trade)\n",
    "  \n",
    "  bank.save_residue(key, capital - (qty * trade.entry_price)/ leverage)\n",
    "\n",
    "def book_profit(k, v):\n",
    "  if len(active_positions) == 0:\n",
    "    return\n",
    "\n",
    "  apdf = (\n",
    "      pd.DataFrame([asdict(p) for p in active_positions.values() if p is not None]).set_index('stock')\n",
    "        .join(v.rename(columns={'Stock': 'stock'}).set_index('stock')[['High', 'Close', 'Date']])\n",
    "  )\n",
    "  apdf = apdf[apdf.High >= apdf.tp]\n",
    "  apdf['perc_change'] = (apdf.Close - apdf.avg_entry_price)/apdf.avg_entry_price * 100\n",
    "\n",
    "  selected_stocks = apdf.sort_values('perc_change', ascending=False)\n",
    "  if len(selected_stocks) > 0:\n",
    "    selected_stock = selected_stocks.iloc[0]\n",
    "    position = active_positions[selected_stock.name]\n",
    "    position.close(selected_stock.Date, selected_stock.tp)\n",
    "    closed_positions.append(position)\n",
    "    active_positions[position.stock] = None\n",
    "\n",
    "    exit_margin = position.exit_margin() / len(position.trades)\n",
    "    for trade in position.trades:\n",
    "      bank.settle(trade.capital_key, exit_margin)\n",
    "\n",
    "def backtest():\n",
    "  pb = tqdm(total=len(df.Date.unique()))\n",
    "  for k, v in df.groupby('Date'):\n",
    "    global active_positions\n",
    "    \n",
    "    position = init_new_position(k, v)\n",
    "    if position is not None:\n",
    "      active_positions[position.stock] = position\n",
    "\n",
    "    else:\n",
    "      avg_out_active_positions(k, v)\n",
    "\n",
    "    book_profit(k, v)\n",
    "    pb.update(1)\n",
    "  pb.close()\n",
    "\n",
    "\n",
    "bank = Bank(initial_capital, max_positions_num)\n",
    "backtest()\n"
   ]
  },
  {
   "cell_type": "code",
   "execution_count": 73,
   "metadata": {
    "executionInfo": {
     "elapsed": 90,
     "status": "ok",
     "timestamp": 1755116428370,
     "user": {
      "displayName": "abhilash nanda",
      "userId": "17238874832246123978"
     },
     "user_tz": -330
    },
    "id": "oXl06aj4uu4y"
   },
   "outputs": [],
   "source": [
    "from dataclasses import  asdict\n",
    "trades = pd.DataFrame([asdict(p) for p in closed_positions]).sort_values(['entry_time']).reset_index(drop=True)#.to_csv(f'{root_path}/closed_positions.csv', index=False)"
   ]
  },
  {
   "cell_type": "code",
   "execution_count": 74,
   "metadata": {},
   "outputs": [
    {
     "data": {
      "text/html": [
       "<div>\n",
       "<style scoped>\n",
       "    .dataframe tbody tr th:only-of-type {\n",
       "        vertical-align: middle;\n",
       "    }\n",
       "\n",
       "    .dataframe tbody tr th {\n",
       "        vertical-align: top;\n",
       "    }\n",
       "\n",
       "    .dataframe thead th {\n",
       "        text-align: right;\n",
       "    }\n",
       "</style>\n",
       "<table border=\"1\" class=\"dataframe\">\n",
       "  <thead>\n",
       "    <tr style=\"text-align: right;\">\n",
       "      <th></th>\n",
       "      <th>Metric</th>\n",
       "      <th>Value</th>\n",
       "    </tr>\n",
       "  </thead>\n",
       "  <tbody>\n",
       "    <tr>\n",
       "      <th>0</th>\n",
       "      <td>Period</td>\n",
       "      <td>2015-01-30 to 2025-05-15</td>\n",
       "    </tr>\n",
       "    <tr>\n",
       "      <th>1</th>\n",
       "      <td>Total Trades</td>\n",
       "      <td>212</td>\n",
       "    </tr>\n",
       "    <tr>\n",
       "      <th>2</th>\n",
       "      <td>Active Position Count</td>\n",
       "      <td>10</td>\n",
       "    </tr>\n",
       "    <tr>\n",
       "      <th>3</th>\n",
       "      <td>Win Rate (%)</td>\n",
       "      <td>100.00</td>\n",
       "    </tr>\n",
       "    <tr>\n",
       "      <th>4</th>\n",
       "      <td>Total Profit</td>\n",
       "      <td>1,010,797.59</td>\n",
       "    </tr>\n",
       "    <tr>\n",
       "      <th>5</th>\n",
       "      <td>Total Tax</td>\n",
       "      <td>5893.20</td>\n",
       "    </tr>\n",
       "    <tr>\n",
       "      <th>6</th>\n",
       "      <td>CAGR (%)</td>\n",
       "      <td>19.13</td>\n",
       "    </tr>\n",
       "  </tbody>\n",
       "</table>\n",
       "</div>"
      ],
      "text/plain": [
       "                  Metric                     Value\n",
       "0                 Period  2015-01-30 to 2025-05-15\n",
       "1           Total Trades                       212\n",
       "2  Active Position Count                        10\n",
       "3           Win Rate (%)                    100.00\n",
       "4           Total Profit              1,010,797.59\n",
       "5              Total Tax                   5893.20\n",
       "6               CAGR (%)                     19.13"
      ]
     },
     "execution_count": 74,
     "metadata": {},
     "output_type": "execute_result"
    }
   ],
   "source": [
    "import pandas as pd\n",
    "from datetime import datetime\n",
    "\n",
    "# Ensure entry_time and exit_time are datetime\n",
    "trades['entry_time'] = pd.to_datetime(trades['entry_time'])\n",
    "trades['exit_time'] = pd.to_datetime(trades['exit_time'])\n",
    "\n",
    "# Total trades\n",
    "total_trades = len(trades)\n",
    "\n",
    "# Win rate\n",
    "win_trades = (trades['pnl'] > 0).sum()\n",
    "win_rate = win_trades / total_trades * 100 if total_trades > 0 else 0\n",
    "\n",
    "# Total profit\n",
    "total_profit = trades['pnl'].sum() - trades['tax'].sum()\n",
    "\n",
    "# Total tax\n",
    "total_tax = trades['tax'].sum()\n",
    "\n",
    "# CAGR calculation\n",
    "start = trades['entry_time'].min()\n",
    "end = trades['exit_time'].max()\n",
    "years = (end - start).days / 365.25\n",
    "initial = 200000  # initial_capital from your code\n",
    "final = initial + total_profit\n",
    "cagr = ((final / initial) ** (1 / years) - 1) * 100 if years > 0 else None\n",
    "\n",
    "# Active positions\n",
    "active_position_count = sum([len(p.trades) for p in active_positions.values() if p is not None])\n",
    "\n",
    "# Period\n",
    "period = f\"{start.strftime('%Y-%m-%d')} to {end.strftime('%Y-%m-%d')}\"\n",
    "\n",
    "# Tearsheets summary\n",
    "tearsheet = pd.DataFrame({\n",
    "    'Metric': ['Period', 'Total Trades', 'Active Position Count', 'Win Rate (%)', 'Total Profit', 'Total Tax', 'CAGR (%)'],\n",
    "    'Value': [\n",
    "        period,\n",
    "        f\"{total_trades:,}\",\n",
    "        f\"{active_position_count:,}\",\n",
    "        f\"{win_rate:.2f}\",\n",
    "        f\"{total_profit:,.2f}\",\n",
    "        f\"{total_tax:.2f}\" if total_tax else \"N/A\",\n",
    "        f\"{cagr:.2f}\" if cagr else \"N/A\"\n",
    "    ]\n",
    "})\n",
    "\n",
    "tearsheet"
   ]
  },
  {
   "cell_type": "code",
   "execution_count": 76,
   "metadata": {},
   "outputs": [
    {
     "data": {
      "text/html": [
       "<div>\n",
       "<style scoped>\n",
       "    .dataframe tbody tr th:only-of-type {\n",
       "        vertical-align: middle;\n",
       "    }\n",
       "\n",
       "    .dataframe tbody tr th {\n",
       "        vertical-align: top;\n",
       "    }\n",
       "\n",
       "    .dataframe thead th {\n",
       "        text-align: right;\n",
       "    }\n",
       "</style>\n",
       "<table border=\"1\" class=\"dataframe\">\n",
       "  <thead>\n",
       "    <tr style=\"text-align: right;\">\n",
       "      <th></th>\n",
       "      <th>bucket_id</th>\n",
       "      <th>max</th>\n",
       "      <th>usage_count</th>\n",
       "    </tr>\n",
       "  </thead>\n",
       "  <tbody>\n",
       "    <tr>\n",
       "      <th>0</th>\n",
       "      <td>f6e24b26</td>\n",
       "      <td>147070.178160</td>\n",
       "      <td>31</td>\n",
       "    </tr>\n",
       "    <tr>\n",
       "      <th>1</th>\n",
       "      <td>f6e24bd0</td>\n",
       "      <td>54393.994585</td>\n",
       "      <td>16</td>\n",
       "    </tr>\n",
       "    <tr>\n",
       "      <th>2</th>\n",
       "      <td>f6e24c5c</td>\n",
       "      <td>44523.890539</td>\n",
       "      <td>13</td>\n",
       "    </tr>\n",
       "    <tr>\n",
       "      <th>3</th>\n",
       "      <td>f6e24cde</td>\n",
       "      <td>112898.588698</td>\n",
       "      <td>27</td>\n",
       "    </tr>\n",
       "    <tr>\n",
       "      <th>4</th>\n",
       "      <td>f6e24d60</td>\n",
       "      <td>91812.599045</td>\n",
       "      <td>24</td>\n",
       "    </tr>\n",
       "    <tr>\n",
       "      <th>5</th>\n",
       "      <td>f6e24dec</td>\n",
       "      <td>79514.987755</td>\n",
       "      <td>23</td>\n",
       "    </tr>\n",
       "    <tr>\n",
       "      <th>6</th>\n",
       "      <td>f6e24e6e</td>\n",
       "      <td>109679.851697</td>\n",
       "      <td>26</td>\n",
       "    </tr>\n",
       "    <tr>\n",
       "      <th>7</th>\n",
       "      <td>f6e24ee6</td>\n",
       "      <td>30328.366240</td>\n",
       "      <td>7</td>\n",
       "    </tr>\n",
       "    <tr>\n",
       "      <th>8</th>\n",
       "      <td>f6e24f68</td>\n",
       "      <td>507973.049998</td>\n",
       "      <td>49</td>\n",
       "    </tr>\n",
       "    <tr>\n",
       "      <th>9</th>\n",
       "      <td>f6e249e6</td>\n",
       "      <td>32602.080471</td>\n",
       "      <td>9</td>\n",
       "    </tr>\n",
       "  </tbody>\n",
       "</table>\n",
       "</div>"
      ],
      "text/plain": [
       "  bucket_id            max  usage_count\n",
       "0  f6e24b26  147070.178160           31\n",
       "1  f6e24bd0   54393.994585           16\n",
       "2  f6e24c5c   44523.890539           13\n",
       "3  f6e24cde  112898.588698           27\n",
       "4  f6e24d60   91812.599045           24\n",
       "5  f6e24dec   79514.987755           23\n",
       "6  f6e24e6e  109679.851697           26\n",
       "7  f6e24ee6   30328.366240            7\n",
       "8  f6e24f68  507973.049998           49\n",
       "9  f6e249e6   32602.080471            9"
      ]
     },
     "execution_count": 76,
     "metadata": {},
     "output_type": "execute_result"
    }
   ],
   "source": [
    "snapdf = pd.DataFrame(pd.DataFrame(bank.snapshot).max(), columns=['max'])\n",
    "bucdf = pd.DataFrame(bank.bucket_usage_count, index=[0]).T\n",
    "pd.concat([snapdf, bucdf], axis=1).rename(columns={0: 'usage_count'}).reset_index().rename(columns={'index': 'bucket_id'})"
   ]
  },
  {
   "cell_type": "code",
   "execution_count": 33,
   "metadata": {},
   "outputs": [
    {
     "data": {
      "text/plain": [
       "<Axes: title={'center': 'Cumulative PnL'}>"
      ]
     },
     "execution_count": 33,
     "metadata": {},
     "output_type": "execute_result"
    },
    {
     "data": {
      "image/png": "[encoded data removed]",
      "text/plain": [
       "<Figure size 1200x600 with 1 Axes>"
      ]
     },
     "metadata": {},
     "output_type": "display_data"
    }
   ],
   "source": [
    "trades.sort_values(['exit_time']).reset_index(drop=True).pnl.cumsum().plot(title='Cumulative PnL', figsize=(12, 6))"
   ]
  }
 ],
 "metadata": {
  "colab": {
   "authorship_tag": "ABX9TyOs+u3P0D+KeKQn8d9CdFIf",
   "mount_file_id": "1emSu8CDgOgWv6lScjyRlOx8Zukm4qtFJ",
   "provenance": [
    {
     "file_id": "1ua4CU_bLlvF1uEkt5ACOxL61ymhu6huB",
     "timestamp": 1754922697520
    }
   ]
  },
  "kernelspec": {
   "display_name": "Python 3",
   "name": "python3"
  },
  "language_info": {
   "codemirror_mode": {
    "name": "ipython",
    "version": 3
   },
   "file_extension": ".py",
   "mimetype": "text/x-python",
   "name": "python",
   "nbconvert_exporter": "python",
   "pygments_lexer": "ipython3",
   "version": "3.12.1"
  }
 },
 "nbformat": 4,
 "nbformat_minor": 0
}

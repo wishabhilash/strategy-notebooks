{
 "cells": [
  {
   "cell_type": "code",
   "execution_count": 39,
   "metadata": {
    "executionInfo": {
     "elapsed": 718,
     "status": "ok",
     "timestamp": 1755107867523,
     "user": {
      "displayName": "abhilash nanda",
      "userId": "17238874832246123978"
     },
     "user_tz": -330
    },
    "id": "kUV3wR62-bk"
   },
   "outputs": [],
   "source": [
    "import pandas as pd\n",
    "\n",
    "nifty50_df = pd.read_csv('nifty50.csv')\n",
    "\n",
    "replaced_tickers = pd.read_csv('nifty50_changes.csv')\n",
    "stock_changes = pd.read_csv('nifty50_changes.csv')\n",
    "stock_changes['start_date'] = pd.to_datetime(stock_changes['start_date'])\n",
    "stock_changes['end_date'] = pd.to_datetime(stock_changes['end_date'])\n",
    "\n",
    "all_tickers =  nifty50_df['Symbol'].tolist() + stock_changes.symbol.tolist()\n",
    "\n",
    "tickers = [f\"NSE:{t}-EQ\" for t in set(all_tickers)]"
   ]
  },
  {
   "cell_type": "code",
   "execution_count": 40,
   "metadata": {
    "colab": {
     "base_uri": "https://localhost:8080/"
    },
    "executionInfo": {
     "elapsed": 22666,
     "status": "ok",
     "timestamp": 1755107891283,
     "user": {
      "displayName": "abhilash nanda",
      "userId": "17238874832246123978"
     },
     "user_tz": -330
    },
    "id": "JzbFDktrVkjF",
    "outputId": "73266f45-1282-495e-d581-d5e826e5a6ca"
   },
   "outputs": [
    {
     "name": "stderr",
     "output_type": "stream",
     "text": [
      "Downloading data: 100%|██████████| 63/63 [00:08<00:00,  7.01ticker/s]\n"
     ]
    },
    {
     "name": "stdout",
     "output_type": "stream",
     "text": [
      "Error fetching data for NSE:HDFC-EQ: 'candles'\n"
     ]
    },
    {
     "name": "stderr",
     "output_type": "stream",
     "text": [
      "Loading 1Dmin data: 100%|██████████| 62/62 [00:01<00:00, 57.68it/s]\n"
     ]
    }
   ],
   "source": [
    "from fyers_helper import prepare_data, load_stock_data\n",
    "import datetime as dt\n",
    "\n",
    "data_path = \"/workspaces/codespaces-jupyter/data\"\n",
    "\n",
    "end_date = dt.datetime.now()\n",
    "start_date = dt.datetime(2015, 1, 1)\n",
    "\n",
    "file_paths = prepare_data(tickers, \"1D\", start_date=start_date, end_date=end_date, path=data_path, overwrite=False)\n",
    "loaded_data = load_stock_data(file_paths, data_path, \"1D\")"
   ]
  },
  {
   "cell_type": "code",
   "execution_count": 41,
   "metadata": {
    "executionInfo": {
     "elapsed": 3,
     "status": "ok",
     "timestamp": 1755112636961,
     "user": {
      "displayName": "abhilash nanda",
      "userId": "17238874832246123978"
     },
     "user_tz": -330
    },
    "id": "8a9814d7"
   },
   "outputs": [],
   "source": [
    "df = pd.concat(loaded_data, names=[\"Stock\", \"Date\"]).reset_index()"
   ]
  },
  {
   "cell_type": "code",
   "execution_count": 42,
   "metadata": {
    "executionInfo": {
     "elapsed": 86,
     "status": "ok",
     "timestamp": 1755112638620,
     "user": {
      "displayName": "abhilash nanda",
      "userId": "17238874832246123978"
     },
     "user_tz": -330
    },
    "id": "u3ANeqXE-fiF"
   },
   "outputs": [],
   "source": [
    "import talib as ta\n",
    "\n",
    "df.Date = pd.to_datetime(df.Date)\n",
    "# Calculate RSI per stock\n",
    "df['SMA20'] = df.groupby('Stock')['Close'].transform(lambda x: ta.SMA(x, timeperiod=20))\n",
    "df['SMA20_Perc_Distance'] = (df['Close'] - df['SMA20']) / df['SMA20'] * 100\n",
    "\n",
    "df['Entry_Price'] = df.groupby('Stock')['Close'].shift(-1)\n",
    "df['Entry_Time'] = df.groupby('Stock')['Date'].shift(-1)\n",
    "\n",
    "# df = df[df.Date >= '2020-01-01 05:30:00']"
   ]
  },
  {
   "cell_type": "code",
   "execution_count": 43,
   "metadata": {
    "colab": {
     "base_uri": "https://localhost:8080/"
    },
    "executionInfo": {
     "elapsed": 6539,
     "status": "ok",
     "timestamp": 1755112647576,
     "user": {
      "displayName": "abhilash nanda",
      "userId": "17238874832246123978"
     },
     "user_tz": -330
    },
    "id": "lofTRsxmAPG5",
    "outputId": "aec4ccc7-605d-437a-b990-96c5f0a74b5d"
   },
   "outputs": [
    {
     "name": "stderr",
     "output_type": "stream",
     "text": [
      "/tmp/ipykernel_4797/960733863.py:2: FutureWarning: DataFrameGroupBy.apply operated on the grouping columns. This behavior is deprecated, and in a future version of pandas the grouping columns will be excluded from the operation. Either pass `include_groups=False` to exclude the groupings or explicitly select the grouping columns after groupby to silence this warning.\n",
      "  df[df.Close < df.SMA20].groupby('Date', group_keys=False).apply(lambda x: x.nsmallest(5, \"SMA20_Perc_Distance\"))\n"
     ]
    }
   ],
   "source": [
    "signals = (\n",
    "    df[df.Close < df.SMA20].groupby('Date', group_keys=False).apply(lambda x: x.nsmallest(5, \"SMA20_Perc_Distance\"))\n",
    "      .sort_values(['Date', 'SMA20_Perc_Distance']).reset_index(drop=True).dropna(subset=['Entry_Price'])\n",
    ")"
   ]
  },
  {
   "cell_type": "code",
   "execution_count": 44,
   "metadata": {
    "colab": {
     "base_uri": "https://localhost:8080/"
    },
    "executionInfo": {
     "elapsed": 26547,
     "status": "ok",
     "timestamp": 1755116338462,
     "user": {
      "displayName": "abhilash nanda",
      "userId": "17238874832246123978"
     },
     "user_tz": -330
    },
    "id": "pMPSGAwqHdP4",
    "outputId": "b7508d6e-4367-487e-a34b-ee3c4f72a1e8"
   },
   "outputs": [
    {
     "data": {
      "application/vnd.jupyter.widget-view+json": {
       "model_id": "22a8d31947764a55adc8033b868d396c",
       "version_major": 2,
       "version_minor": 0
      },
      "text/plain": [
       "  0%|          | 0/2633 [00:00<?, ?it/s]"
      ]
     },
     "metadata": {},
     "output_type": "display_data"
    }
   ],
   "source": [
    "from dataclasses import dataclass, field, asdict\n",
    "from typing import List\n",
    "from uuid import uuid1\n",
    "from tqdm.notebook import tqdm\n",
    "from copy import copy\n",
    "\n",
    "\n",
    "leverage = 1\n",
    "tp_perc = 5\n",
    "sl_perc = 20\n",
    "rebalance_perc = 3\n",
    "active_positions = {}\n",
    "closed_positions = []\n",
    "initial_capital = 1000000\n",
    "max_positions_num = 10\n",
    "max_holding_period = 5000  # days\n",
    "max_num_of_avgs = 3\n",
    "mtf_rate_daily = 0.0192 / 100  # Margin funding rate (per day)\n",
    "\n",
    "class Bank:\n",
    "    initial_capital: float\n",
    "    buckets: dict = {}\n",
    "    ids: list = []\n",
    "    residue: dict = {}\n",
    "    snapshot: list = []\n",
    "    bucket_usage_count: dict = {}\n",
    "\n",
    "    def __init__(self, initial_capital, number_of_buckets = 10) -> None:\n",
    "        self.initial_capital = initial_capital\n",
    "        self.ids = [str(uuid1()).split('-')[0] for i in range(number_of_buckets)]\n",
    "        self.buckets = dict(zip(self.ids, [initial_capital/number_of_buckets] * number_of_buckets))\n",
    "\n",
    "    def borrow(self) -> tuple:\n",
    "        if len(self.buckets) == 0:\n",
    "            return None, None\n",
    "        \n",
    "        _df = pd.DataFrame(self.buckets.items(), columns=['key', 'amount']).sort_values('amount', ascending=True)\n",
    "        key = _df.iloc[0].key\n",
    "        bucket_amount = self.buckets.pop(key)\n",
    "\n",
    "        self.bucket_usage_count[key] = self.bucket_usage_count.get(key, 0) + 1\n",
    "        self._take_snapshot()\n",
    "        return key, bucket_amount\n",
    "    \n",
    "    def save_residue(self, key, amount):\n",
    "        self.residue[key] = amount\n",
    "\n",
    "    def _take_snapshot(self):\n",
    "        self.snapshot.append(copy(self.buckets))\n",
    "    \n",
    "    def settle(self, key, amount):\n",
    "        if key not in self.ids:\n",
    "            raise Exception(\"invalid key\")\n",
    "        residue = self.residue.pop(key)\n",
    "        self.buckets[key] = amount + residue\n",
    "        self._take_snapshot()\n",
    "\n",
    "\n",
    "@dataclass\n",
    "class Trade:\n",
    "    capital_key: str\n",
    "    entry_time: str\n",
    "    entry_price: float\n",
    "    quantity: int\n",
    "\n",
    "@dataclass\n",
    "class Position:\n",
    "    stock: str\n",
    "    entry_time: pd.Timestamp\n",
    "    avg_entry_price: float = 0.0\n",
    "    last_entry_price: float = 0.0\n",
    "    quantity: int = 0\n",
    "    exit_time: pd.Timestamp | None = None\n",
    "    exit_price: float = 0.0\n",
    "    tp: float = 0.0\n",
    "    sl: float = 0.0\n",
    "    trades: List[Trade] = field(default_factory=list)\n",
    "    pnl: float = 0.0\n",
    "    tax: float = 0.0\n",
    "\n",
    "    def exit_margin(self):\n",
    "        return (self.exit_price * self.quantity)/leverage - self.tax\n",
    "\n",
    "    def close(self, exit_time, exit_price):\n",
    "        self.exit_time = exit_time\n",
    "        self.exit_price = exit_price\n",
    "        if self.quantity < 0:\n",
    "            print(self)\n",
    "            raise Exception(\"Quantity can't be negative\")\n",
    "        self.pnl = (exit_price - self.avg_entry_price) * self.quantity\n",
    "        self.calculate_taxes()\n",
    "\n",
    "    def calculate_taxes(self):\n",
    "        extry_taxes = 0\n",
    "        for trade in self.trades:\n",
    "            stt = abs(trade.quantity) * trade.entry_price * 0.025/100\n",
    "            transaction_charges = (abs(trade.quantity) * trade.entry_price * 0.00322/100)\n",
    "            gst = (stt + transaction_charges) * 18/100\n",
    "            extry_taxes += stt + transaction_charges + gst\n",
    "\n",
    "        transaction_charges = abs(self.quantity) * self.exit_price * 0.00322/100\n",
    "        gst = transaction_charges * 18/100\n",
    "        stamp_duty = abs(self.quantity) * self.exit_price * 0.003/100\n",
    "        exit_taxes = transaction_charges + gst + stamp_duty\n",
    "\n",
    "        # --- Add MTF charge ---\n",
    "        holding_days = (self.exit_time - self.entry_time).days\n",
    "        holding_days = min(holding_days, 100)\n",
    "        mtf_funded_amount = self.avg_entry_price * self.quantity * (leverage - 1) / leverage\n",
    "        mtf_charge = mtf_funded_amount * mtf_rate_daily * holding_days\n",
    "\n",
    "        self.tax = extry_taxes + exit_taxes + mtf_charge\n",
    "\n",
    "    def rebalance_position(self):\n",
    "        total_cost = 0\n",
    "        total_qty = 0\n",
    "        for t in self.trades:\n",
    "            total_cost += t.entry_price * t.quantity\n",
    "            total_qty += t.quantity\n",
    "        if total_qty == 0:\n",
    "            print(self)\n",
    "        self.avg_entry_price = total_cost / total_qty\n",
    "        self.quantity = total_qty\n",
    "        self.tp = self.avg_entry_price * (1 + tp_perc / 100)\n",
    "        self.sl = self.avg_entry_price * (1 - sl_perc / 100)\n",
    "        self.last_entry_price = self.trades[-1].entry_price if len(self.trades) > 0 else 0\n",
    "\n",
    "    def add_trade(self, trade: Trade):\n",
    "        self.trades.append(trade)\n",
    "        self.rebalance_position()\n",
    "\n",
    "def select_stock_for_entry(signals: pd.DataFrame):\n",
    "    selected_stocks = []\n",
    "    for _, signal in signals.iterrows():\n",
    "        if active_positions.get(signal.Stock, None) is None:\n",
    "            if signal.Stock in stock_changes.symbol.tolist():\n",
    "                stock = stock_changes[stock_changes.symbol == signal.Stock]\n",
    "                if signal.Date >= stock.start_date.values[0] and signal.Date <= stock.end_date.values[0]:\n",
    "                    selected_stocks.append(signal)\n",
    "            else:\n",
    "                selected_stocks.append(signal)\n",
    "    return selected_stocks[0] if len(selected_stocks) > 0 else None\n",
    "\n",
    "\n",
    "def init_new_position(k, v):\n",
    "    selected_stock = select_stock_for_entry(signals[signals.Date == k])\n",
    "    if selected_stock is None:\n",
    "        return None\n",
    "        \n",
    "    key, capital = bank.borrow()\n",
    "    if key is None:\n",
    "        return None\n",
    "        \n",
    "    if selected_stock is not None:\n",
    "        qty = int(capital * leverage / selected_stock.Entry_Price)\n",
    "        if qty < 0:\n",
    "            raise Exception(\"Quantity can't be negative\")\n",
    "\n",
    "        if qty == 0:\n",
    "            return None\n",
    "        position = Position(selected_stock.Stock, selected_stock.Entry_Time)\n",
    "        trade = Trade(key, selected_stock.Entry_Time, selected_stock.Entry_Price, qty)\n",
    "        position.add_trade(trade)\n",
    "\n",
    "        bank.save_residue(key, capital - (qty * trade.entry_price) / leverage)\n",
    "        return position\n",
    "\n",
    "def avg_out_active_positions(k, v):\n",
    "    global active_positions, capital_buckets, max_num_of_avgs\n",
    "    if not has_active_positions():\n",
    "        return\n",
    "\n",
    "    apdf = (\n",
    "        pd.DataFrame([asdict(p) for p in active_positions.values() if p is not None]).set_index('stock')\n",
    "        .join(v.rename(columns={'Stock': 'stock'}).set_index('stock')[['Close', 'Entry_Time', 'Entry_Price']])\n",
    "    )\n",
    "    apdf['perc_change'] = (apdf.Close - apdf.last_entry_price)/apdf.last_entry_price * 100\n",
    "    rebalance_stocks = apdf[apdf.perc_change <= -rebalance_perc].sort_values('perc_change')\n",
    "    if len(rebalance_stocks) == 0:\n",
    "        return\n",
    "\n",
    "    for k, stock in rebalance_stocks.iterrows():\n",
    "        position = active_positions[stock.name]\n",
    "        if len(position.trades) == max_num_of_avgs:\n",
    "            continue\n",
    "\n",
    "        key, capital = bank.borrow()\n",
    "        if key is None:\n",
    "            return\n",
    "        \n",
    "        qty = position.quantity / len(position.trades)\n",
    "\n",
    "        trade = Trade(key, stock.Entry_Time, stock.Entry_Price, qty)\n",
    "        position.add_trade(trade)\n",
    "        \n",
    "        bank.save_residue(key, capital - (qty * trade.entry_price)/ leverage)\n",
    "        break\n",
    "\n",
    "def book_profit(k, v):\n",
    "    if not has_active_positions():\n",
    "        return\n",
    "\n",
    "    apdf = (\n",
    "        pd.DataFrame([asdict(p) for p in active_positions.values() if p is not None]).set_index('stock')\n",
    "            .join(v.rename(columns={'Stock': 'stock'}).set_index('stock')[['High', 'Close', 'Date']])\n",
    "    )\n",
    "    apdf = apdf[apdf.High >= apdf.tp]\n",
    "    apdf['perc_change'] = (apdf.Close - apdf.avg_entry_price)/apdf.avg_entry_price * 100\n",
    "\n",
    "    selected_stocks = apdf.sort_values('perc_change', ascending=False)\n",
    "    if len(selected_stocks) > 0:\n",
    "        selected_stock = selected_stocks.iloc[0]\n",
    "        position = active_positions[selected_stock.name]\n",
    "        position.close(selected_stock.Date, selected_stock.tp)\n",
    "        closed_positions.append(position)\n",
    "        active_positions[position.stock] = None\n",
    "\n",
    "        exit_margin = position.exit_margin() / len(position.trades)\n",
    "        for trade in position.trades:\n",
    "            bank.settle(trade.capital_key, exit_margin)\n",
    "\n",
    "def get_active_positions():\n",
    "    return [p for p in active_positions.values() if p is not None]\n",
    "\n",
    "def has_active_positions():\n",
    "    return len(get_active_positions()) > 0\n",
    "\n",
    "def exit_long_running_positions(k, v):\n",
    "    global active_positions\n",
    "    if not has_active_positions():\n",
    "        return\n",
    "\n",
    "    apdf = (\n",
    "        pd.DataFrame([asdict(p) for p in active_positions.values() if p is not None]).set_index('stock')\n",
    "            .join(v.rename(columns={'Stock': 'stock'}).set_index('stock')[['Date', 'Close']])\n",
    "    )\n",
    "    apdf['holding_period'] = (k - apdf.entry_time).dt.days\n",
    "    long_running_positions = apdf[apdf.holding_period >= max_holding_period]\n",
    "    \n",
    "    for stock, lr_position in long_running_positions.iterrows():\n",
    "        position = active_positions[stock]\n",
    "        position.close(lr_position.Date, lr_position.Close)\n",
    "        closed_positions.append(position)\n",
    "        active_positions[position.stock] = None\n",
    "\n",
    "        exit_margin = position.exit_margin() / len(position.trades)\n",
    "        for trade in position.trades:\n",
    "            bank.settle(trade.capital_key, exit_margin)\n",
    "\n",
    "def book_loss(k, v):\n",
    "    if not has_active_positions():\n",
    "        return\n",
    "\n",
    "    apdf = (\n",
    "        pd.DataFrame([asdict(p) for p in active_positions.values() if p is not None]).set_index('stock')\n",
    "            .join(v.rename(columns={'Stock': 'stock'}).set_index('stock')[['Low', 'Close', 'Date']])\n",
    "    )\n",
    "    apdf = apdf[apdf.Low <= apdf.sl]\n",
    "    apdf['perc_change'] = (apdf.avg_entry_price - apdf.Close)/apdf.avg_entry_price * 100\n",
    "\n",
    "    selected_stocks = apdf.sort_values('perc_change', ascending=False)\n",
    "    for selected_stock in selected_stocks.itertuples():\n",
    "        position = active_positions[selected_stock.Index]\n",
    "        position.close(selected_stock.Date, selected_stock.sl)\n",
    "        closed_positions.append(position)\n",
    "        active_positions[position.stock] = None\n",
    "\n",
    "        exit_margin = position.exit_margin() / len(position.trades)\n",
    "        for trade in position.trades:\n",
    "            bank.settle(trade.capital_key, exit_margin)\n",
    "\n",
    "def exit_if_removed_from_index(k, v):\n",
    "    global active_positions\n",
    "    if not has_active_positions():\n",
    "        return\n",
    "\n",
    "    for p in get_active_positions():\n",
    "        if p.stock not in stock_changes.symbol.tolist():\n",
    "            continue\n",
    "        stock = stock_changes[stock_changes.symbol == p.stock]\n",
    "        if k > stock.end_date.values[0]:\n",
    "            position = active_positions[p.stock]\n",
    "            position.close(k, v[v.Stock == p.stock].Close.values[0])\n",
    "            closed_positions.append(position)\n",
    "            active_positions[position.stock] = None\n",
    "\n",
    "            exit_margin = position.exit_margin() / len(position.trades)\n",
    "            for trade in position.trades:\n",
    "                bank.settle(trade.capital_key, exit_margin)\n",
    "\n",
    "def exit_position(k, v):\n",
    "    book_profit(k, v)\n",
    "    book_loss(k, v)\n",
    "    exit_if_removed_from_index(k, v)\n",
    "    exit_long_running_positions(k, v)\n",
    "\n",
    "def backtest():\n",
    "    pb = tqdm(total=len(df.Date.unique()))\n",
    "    for k, v in df.groupby('Date'):\n",
    "        global active_positions\n",
    "        \n",
    "        position = init_new_position(k, v)\n",
    "        if position is not None:\n",
    "            active_positions[position.stock] = position\n",
    "\n",
    "        else:\n",
    "            avg_out_active_positions(k, v)\n",
    "\n",
    "        exit_position(k, v)\n",
    "        pb.update(1)\n",
    "    pb.close()\n",
    "\n",
    "\n",
    "bank = Bank(initial_capital, max_positions_num)\n",
    "backtest()\n"
   ]
  },
  {
   "cell_type": "code",
   "execution_count": 51,
   "metadata": {
    "executionInfo": {
     "elapsed": 90,
     "status": "ok",
     "timestamp": 1755116428370,
     "user": {
      "displayName": "abhilash nanda",
      "userId": "17238874832246123978"
     },
     "user_tz": -330
    },
    "id": "oXl06aj4uu4y"
   },
   "outputs": [],
   "source": [
    "from dataclasses import  asdict\n",
    "trades = pd.DataFrame([asdict(p) for p in closed_positions]).sort_values(['entry_time']).reset_index(drop=True)#.to_csv(f'{root_path}/closed_positions.csv', index=False)"
   ]
  },
  {
   "cell_type": "code",
   "execution_count": 57,
   "metadata": {},
   "outputs": [
    {
     "data": {
      "text/html": [
       "<div>\n",
       "<style scoped>\n",
       "    .dataframe tbody tr th:only-of-type {\n",
       "        vertical-align: middle;\n",
       "    }\n",
       "\n",
       "    .dataframe tbody tr th {\n",
       "        vertical-align: top;\n",
       "    }\n",
       "\n",
       "    .dataframe thead th {\n",
       "        text-align: right;\n",
       "    }\n",
       "</style>\n",
       "<table border=\"1\" class=\"dataframe\">\n",
       "  <thead>\n",
       "    <tr style=\"text-align: right;\">\n",
       "      <th></th>\n",
       "      <th>Metric</th>\n",
       "      <th>Value</th>\n",
       "    </tr>\n",
       "  </thead>\n",
       "  <tbody>\n",
       "    <tr>\n",
       "      <th>0</th>\n",
       "      <td>Period</td>\n",
       "      <td>2015-01-30 to 2025-07-28</td>\n",
       "    </tr>\n",
       "    <tr>\n",
       "      <th>1</th>\n",
       "      <td>Final capital</td>\n",
       "      <td>5340979.56</td>\n",
       "    </tr>\n",
       "    <tr>\n",
       "      <th>2</th>\n",
       "      <td>Total Trades</td>\n",
       "      <td>1,007</td>\n",
       "    </tr>\n",
       "    <tr>\n",
       "      <th>3</th>\n",
       "      <td>Active Position Count</td>\n",
       "      <td>10</td>\n",
       "    </tr>\n",
       "    <tr>\n",
       "      <th>4</th>\n",
       "      <td>Max holding period (days)</td>\n",
       "      <td>609</td>\n",
       "    </tr>\n",
       "    <tr>\n",
       "      <th>5</th>\n",
       "      <td>Avg holding period (days)</td>\n",
       "      <td>32</td>\n",
       "    </tr>\n",
       "    <tr>\n",
       "      <th>6</th>\n",
       "      <td>Win Rate (%)</td>\n",
       "      <td>88.08</td>\n",
       "    </tr>\n",
       "    <tr>\n",
       "      <th>7</th>\n",
       "      <td>Total Profit</td>\n",
       "      <td>4,340,979.56</td>\n",
       "    </tr>\n",
       "    <tr>\n",
       "      <th>8</th>\n",
       "      <td>Total Tax</td>\n",
       "      <td>96880.76</td>\n",
       "    </tr>\n",
       "    <tr>\n",
       "      <th>9</th>\n",
       "      <td>CAGR (%)</td>\n",
       "      <td>17.32</td>\n",
       "    </tr>\n",
       "    <tr>\n",
       "      <th>10</th>\n",
       "      <td>Max Drawdown (%)</td>\n",
       "      <td>22.52</td>\n",
       "    </tr>\n",
       "  </tbody>\n",
       "</table>\n",
       "</div>"
      ],
      "text/plain": [
       "                       Metric                     Value\n",
       "0                      Period  2015-01-30 to 2025-07-28\n",
       "1               Final capital                5340979.56\n",
       "2                Total Trades                     1,007\n",
       "3       Active Position Count                        10\n",
       "4   Max holding period (days)                       609\n",
       "5   Avg holding period (days)                        32\n",
       "6                Win Rate (%)                     88.08\n",
       "7                Total Profit              4,340,979.56\n",
       "8                   Total Tax                  96880.76\n",
       "9                    CAGR (%)                     17.32\n",
       "10           Max Drawdown (%)                     22.52"
      ]
     },
     "execution_count": 57,
     "metadata": {},
     "output_type": "execute_result"
    }
   ],
   "source": [
    "import pandas as pd\n",
    "from datetime import datetime\n",
    "\n",
    "# Ensure entry_time and exit_time are datetime\n",
    "trades['entry_time'] = pd.to_datetime(trades['entry_time'])\n",
    "trades['exit_time'] = pd.to_datetime(trades['exit_time'])\n",
    "\n",
    "# Total trades\n",
    "total_trades = len(trades)\n",
    "\n",
    "# Win rate\n",
    "win_trades = (trades['pnl'] > 0).sum()\n",
    "win_rate = win_trades / total_trades * 100 if total_trades > 0 else 0\n",
    "\n",
    "# Total profit\n",
    "total_profit = trades['pnl'].sum() - trades['tax'].sum()\n",
    "\n",
    "# Total tax\n",
    "total_tax = trades['tax'].sum()\n",
    "\n",
    "# CAGR calculation\n",
    "start = trades['entry_time'].min()\n",
    "end = trades['exit_time'].max()\n",
    "years = (end - start).days / 365.25\n",
    "initial = initial_capital  # initial_capital from your code\n",
    "final = initial + total_profit\n",
    "cagr = ((final / initial) ** (1 / years) - 1) * 100 if years > 0 else None\n",
    "\n",
    "# Active positions\n",
    "active_position_count = sum([len(p.trades) for p in active_positions.values() if p is not None])\n",
    "\n",
    "# Period\n",
    "period = f\"{start.strftime('%Y-%m-%d')} to {end.strftime('%Y-%m-%d')}\"\n",
    "\n",
    "# Max holding period\n",
    "max_holding_period = (trades['exit_time'] - trades['entry_time']).max().days\n",
    "avg_holding_period = (trades['exit_time'] - trades['entry_time']).mean().days\n",
    "\n",
    "# Final capital\n",
    "final_capital = initial + total_profit\n",
    "\n",
    "\n",
    "# Calculate drawdown\n",
    "trades['cum_pnl'] = trades['pnl'].cumsum()\n",
    "\n",
    "trades['cum_max'] = trades['cum_pnl'].cummax()\n",
    "trades['drawdown'] = trades['cum_pnl'] - trades['cum_max']\n",
    "max_drawdown = trades['drawdown'].min()\n",
    "max_drawdown_pct = abs(max_drawdown) / trades['cum_max'].max() * 100 if trades['cum_max'].max() != 0 else 0\n",
    "\n",
    "\n",
    "# Tearsheets summary\n",
    "tearsheet = pd.DataFrame({\n",
    "    'Metric': [\n",
    "        'Period',\n",
    "        'Final capital',\n",
    "        'Total Trades',\n",
    "        'Active Position Count',\n",
    "        'Max holding period (days)',\n",
    "        'Avg holding period (days)',\n",
    "        'Win Rate (%)',\n",
    "        'Total Profit',\n",
    "        'Total Tax',\n",
    "        'CAGR (%)',\n",
    "        'Max Drawdown (%)'\n",
    "    ],\n",
    "    'Value': [\n",
    "        period,\n",
    "        f\"{final_capital:.2f}\",\n",
    "        f\"{total_trades:,}\",\n",
    "        f\"{active_position_count:,}\",\n",
    "        f\"{max_holding_period:,}\",\n",
    "        f\"{avg_holding_period:,}\",\n",
    "        f\"{win_rate:.2f}\",\n",
    "        f\"{total_profit:,.2f}\",\n",
    "        f\"{total_tax:.2f}\" if total_tax else \"N/A\",\n",
    "        f\"{cagr:.2f}\" if cagr else \"N/A\",\n",
    "        f\"{max_drawdown_pct:,.2f}\"\n",
    "    ]\n",
    "})\n",
    "\n",
    "tearsheet"
   ]
  },
  {
   "cell_type": "code",
   "execution_count": 60,
   "metadata": {},
   "outputs": [
    {
     "data": {
      "image/png": "[encoded data removed]",
      "text/plain": [
       "<Figure size 1000x600 with 1 Axes>"
      ]
     },
     "metadata": {},
     "output_type": "display_data"
    }
   ],
   "source": [
    "snapdf = pd.DataFrame(pd.DataFrame(bank.snapshot).max(), columns=['max'])\n",
    "bucdf = pd.DataFrame(bank.bucket_usage_count, index=[0]).T\n",
    "bucket_distribution = pd.concat([snapdf, bucdf], axis=1).rename(columns={0: 'usage_count'}).reset_index().rename(columns={'index': 'bucket_id'})\n",
    "\n",
    "# ...existing code...\n",
    "import matplotlib.pyplot as plt\n",
    "\n",
    "plt.figure(figsize=(10, 6))\n",
    "plt.bar(bucket_distribution['bucket_id'], bucket_distribution['max'], edgecolor='black')\n",
    "plt.title('Bar Chart of Bucket Distribution (Max Value)')\n",
    "plt.xlabel('Bucket ID')\n",
    "plt.ylabel('Max Value in Bucket')\n",
    "plt.xticks(rotation=45)\n",
    "plt.show()"
   ]
  },
  {
   "cell_type": "code",
   "execution_count": 54,
   "metadata": {},
   "outputs": [
    {
     "data": {
      "text/plain": [
       "<Axes: title={'center': 'Cumulative PnL'}>"
      ]
     },
     "execution_count": 54,
     "metadata": {},
     "output_type": "execute_result"
    },
    {
     "data": {
      "image/png": "[encoded data removed]",
      "text/plain": [
       "<Figure size 1200x600 with 1 Axes>"
      ]
     },
     "metadata": {},
     "output_type": "display_data"
    }
   ],
   "source": [
    "trades.sort_values(['exit_time']).reset_index(drop=True).pnl.cumsum().plot(title='Cumulative PnL', figsize=(12, 6))"
   ]
  }
 ],
 "metadata": {
  "colab": {
   "authorship_tag": "ABX9TyOs+u3P0D+KeKQn8d9CdFIf",
   "mount_file_id": "1emSu8CDgOgWv6lScjyRlOx8Zukm4qtFJ",
   "provenance": [
    {
     "file_id": "1ua4CU_bLlvF1uEkt5ACOxL61ymhu6huB",
     "timestamp": 1754922697520
    }
   ]
  },
  "kernelspec": {
   "display_name": "Python 3",
   "name": "python3"
  },
  "language_info": {
   "codemirror_mode": {
    "name": "ipython",
    "version": 3
   },
   "file_extension": ".py",
   "mimetype": "text/x-python",
   "name": "python",
   "nbconvert_exporter": "python",
   "pygments_lexer": "ipython3",
   "version": "3.12.1"
  }
 },
 "nbformat": 4,
 "nbformat_minor": 0
}

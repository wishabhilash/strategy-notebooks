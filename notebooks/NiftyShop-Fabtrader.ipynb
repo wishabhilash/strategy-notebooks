{
 "cells": [
  {
   "cell_type": "code",
   "execution_count": 1,
   "metadata": {
    "executionInfo": {
     "elapsed": 718,
     "status": "ok",
     "timestamp": 1755107867523,
     "user": {
      "displayName": "abhilash nanda",
      "userId": "17238874832246123978"
     },
     "user_tz": -330
    },
    "id": "kUV3wR62-bk"
   },
   "outputs": [],
   "source": [
    "import pandas as pd\n",
    "\n",
    "nifty50_df = pd.read_csv('nifty50.csv')\n",
    "\n",
    "replaced_tickers = pd.read_csv('nifty50_changes.csv')\n",
    "stock_changes = pd.read_csv('nifty50_changes.csv')\n",
    "stock_changes['start_date'] = pd.to_datetime(stock_changes['start_date'])\n",
    "stock_changes['end_date'] = pd.to_datetime(stock_changes['end_date'])\n",
    "\n",
    "tickers = [f\"NSE:{t}-EQ\" for t in set(nifty50_df['Symbol'].tolist())] + stock_changes.symbol.tolist()"
   ]
  },
  {
   "cell_type": "code",
   "execution_count": 2,
   "metadata": {
    "colab": {
     "base_uri": "https://localhost:8080/"
    },
    "executionInfo": {
     "elapsed": 22666,
     "status": "ok",
     "timestamp": 1755107891283,
     "user": {
      "displayName": "abhilash nanda",
      "userId": "17238874832246123978"
     },
     "user_tz": -330
    },
    "id": "JzbFDktrVkjF",
    "outputId": "73266f45-1282-495e-d581-d5e826e5a6ca"
   },
   "outputs": [
    {
     "name": "stderr",
     "output_type": "stream",
     "text": [
      "Downloading data: 100%|██████████| 73/73 [00:08<00:00,  8.34ticker/s]\n"
     ]
    },
    {
     "name": "stdout",
     "output_type": "stream",
     "text": [
      "Error fetching data for NSE:HDFC-EQ: 'candles'\n"
     ]
    },
    {
     "name": "stderr",
     "output_type": "stream",
     "text": [
      "Loading 1Dmin data: 100%|██████████| 62/62 [00:01<00:00, 55.83it/s]\n"
     ]
    }
   ],
   "source": [
    "from fyers_helper import prepare_data, load_stock_data\n",
    "import datetime as dt\n",
    "\n",
    "data_path = \"/workspaces/codespaces-jupyter/data\"\n",
    "\n",
    "end_date = dt.datetime.now()\n",
    "start_date = dt.datetime(2015, 1, 1)\n",
    "\n",
    "file_paths = prepare_data(tickers, \"1D\", start_date=start_date, end_date=end_date, path=data_path, overwrite=False)\n",
    "loaded_data = load_stock_data(file_paths, data_path, \"1D\")"
   ]
  },
  {
   "cell_type": "code",
   "execution_count": 3,
   "metadata": {
    "executionInfo": {
     "elapsed": 3,
     "status": "ok",
     "timestamp": 1755112636961,
     "user": {
      "displayName": "abhilash nanda",
      "userId": "17238874832246123978"
     },
     "user_tz": -330
    },
    "id": "8a9814d7"
   },
   "outputs": [],
   "source": [
    "df = pd.concat(loaded_data, names=[\"Stock\", \"Date\"]).reset_index()"
   ]
  },
  {
   "cell_type": "code",
   "execution_count": 4,
   "metadata": {
    "executionInfo": {
     "elapsed": 86,
     "status": "ok",
     "timestamp": 1755112638620,
     "user": {
      "displayName": "abhilash nanda",
      "userId": "17238874832246123978"
     },
     "user_tz": -330
    },
    "id": "u3ANeqXE-fiF"
   },
   "outputs": [],
   "source": [
    "import talib as ta\n",
    "\n",
    "df.Date = pd.to_datetime(df.Date)\n",
    "# Calculate RSI per stock\n",
    "df['SMA20'] = df.groupby('Stock')['Close'].transform(lambda x: ta.SMA(x, timeperiod=20))\n",
    "df['SMA20_Perc_Distance'] = (df['Close'] - df['SMA20']) / df['SMA20'] * 100\n",
    "\n",
    "df['Entry_Price'] = df.groupby('Stock')['Close'].shift(-1)\n",
    "df['Entry_Time'] = df.groupby('Stock')['Date'].shift(-1)\n",
    "\n",
    "# df = df[df.Date >= '2020-01-01 05:30:00']"
   ]
  },
  {
   "cell_type": "code",
   "execution_count": 5,
   "metadata": {
    "colab": {
     "base_uri": "https://localhost:8080/"
    },
    "executionInfo": {
     "elapsed": 6539,
     "status": "ok",
     "timestamp": 1755112647576,
     "user": {
      "displayName": "abhilash nanda",
      "userId": "17238874832246123978"
     },
     "user_tz": -330
    },
    "id": "lofTRsxmAPG5",
    "outputId": "aec4ccc7-605d-437a-b990-96c5f0a74b5d"
   },
   "outputs": [
    {
     "name": "stderr",
     "output_type": "stream",
     "text": [
      "/tmp/ipykernel_84645/960733863.py:2: FutureWarning: DataFrameGroupBy.apply operated on the grouping columns. This behavior is deprecated, and in a future version of pandas the grouping columns will be excluded from the operation. Either pass `include_groups=False` to exclude the groupings or explicitly select the grouping columns after groupby to silence this warning.\n",
      "  df[df.Close < df.SMA20].groupby('Date', group_keys=False).apply(lambda x: x.nsmallest(5, \"SMA20_Perc_Distance\"))\n"
     ]
    }
   ],
   "source": [
    "signals = (\n",
    "    df[df.Close < df.SMA20].groupby('Date', group_keys=False).apply(lambda x: x.nsmallest(5, \"SMA20_Perc_Distance\"))\n",
    "      .sort_values(['Date', 'SMA20_Perc_Distance']).reset_index(drop=True).dropna(subset=['Entry_Price'])\n",
    ")"
   ]
  },
  {
   "cell_type": "code",
   "execution_count": null,
   "metadata": {
    "colab": {
     "base_uri": "https://localhost:8080/"
    },
    "executionInfo": {
     "elapsed": 26547,
     "status": "ok",
     "timestamp": 1755116338462,
     "user": {
      "displayName": "abhilash nanda",
      "userId": "17238874832246123978"
     },
     "user_tz": -330
    },
    "id": "pMPSGAwqHdP4",
    "outputId": "b7508d6e-4367-487e-a34b-ee3c4f72a1e8"
   },
   "outputs": [
    {
     "data": {
      "application/vnd.jupyter.widget-view+json": {
       "model_id": "4bbf7a7817714bf3b83d75b42b10657c",
       "version_major": 2,
       "version_minor": 0
      },
      "text/plain": [
       "  0%|          | 0/2633 [00:00<?, ?it/s]"
      ]
     },
     "metadata": {},
     "output_type": "display_data"
    }
   ],
   "source": [
    "from dataclasses import asdict\n",
    "from tqdm.notebook import tqdm\n",
    "from lib import PositionManager, Bank\n",
    "\n",
    "rebalance_perc = 30\n",
    "max_holding_period = 5000  # days\n",
    "max_num_of_avgs = 3\n",
    "initial_capital = 1000000\n",
    "leverage = 1\n",
    "tp_perc = 3.14\n",
    "sl_perc = 10\n",
    "max_positions_num = 10\n",
    "mtf_rate_daily = 0.0192 / 100  # Margin funding rate (per day)\n",
    "\n",
    "\n",
    "def select_stock_for_entry(pm, signals: pd.DataFrame):\n",
    "    selected_stocks = []\n",
    "    for _, signal in signals.iterrows():\n",
    "        if pm.get_position(signal.Stock) is None:\n",
    "            if signal.Stock in stock_changes.symbol.tolist():\n",
    "                stock = stock_changes[stock_changes.symbol == signal.Stock]\n",
    "                if signal.Date >= stock.start_date.values[0] and signal.Date <= stock.end_date.values[0]:\n",
    "                    selected_stocks.append(signal)\n",
    "            else:\n",
    "                selected_stocks.append(signal)\n",
    "    return selected_stocks[0] if len(selected_stocks) > 0 else None\n",
    "\n",
    "\n",
    "def init_new_position(k, v, pm):\n",
    "    selected_stock = select_stock_for_entry(pm, signals[signals.Date == k])\n",
    "    if selected_stock is None:\n",
    "        return None\n",
    "\n",
    "    return pm.new_position(selected_stock.Stock, selected_stock.Entry_Time, selected_stock.Entry_Price)    \n",
    "\n",
    "def avg_out_active_positions(k, v, pm):\n",
    "    global max_num_of_avgs\n",
    "    if not pm.has_active_positions():\n",
    "        return\n",
    "\n",
    "    apdf = (\n",
    "        pd.DataFrame([asdict(p) for p in pm.get_active_positions() if p is not None]).set_index('stock')\n",
    "        .join(v.rename(columns={'Stock': 'stock'}).set_index('stock')[['Close', 'Entry_Time', 'Entry_Price']])\n",
    "    )\n",
    "    apdf['perc_change'] = (apdf.Close - apdf.last_entry_price)/apdf.last_entry_price * 100\n",
    "    rebalance_stocks = apdf[apdf.perc_change <= -rebalance_perc].sort_values('perc_change')\n",
    "    if len(rebalance_stocks) == 0:\n",
    "        return\n",
    "\n",
    "    for k, stock in rebalance_stocks.iterrows():\n",
    "        position = pm.get_position(stock.name)\n",
    "        if len(position.trades) == max_num_of_avgs:\n",
    "            continue\n",
    "\n",
    "        pm.add_trade_to_position(stock.name, stock.Entry_Time, stock.Entry_Price)\n",
    "        break\n",
    "\n",
    "def book_profit(k, v, pm):\n",
    "    if not pm.has_active_positions():\n",
    "        return\n",
    "\n",
    "    apdf = (\n",
    "        pd.DataFrame([asdict(p) for p in pm.get_active_positions() if p is not None]).set_index('stock')\n",
    "            .join(v.rename(columns={'Stock': 'stock'}).set_index('stock')[['High', 'Close', 'Date']])\n",
    "    )\n",
    "    apdf = apdf[apdf.High >= apdf.tp]\n",
    "    apdf['perc_change'] = (apdf.Close - apdf.avg_entry_price)/apdf.avg_entry_price * 100\n",
    "\n",
    "    selected_stocks = apdf.sort_values('perc_change', ascending=False)\n",
    "    if len(selected_stocks) > 0:\n",
    "        selected_stock = selected_stocks.iloc[0]\n",
    "        pm.close_position(selected_stock.name, selected_stock.Date, selected_stock.tp)\n",
    "\n",
    "\n",
    "def exit_long_running_positions(k, v, pm):\n",
    "    global active_positions\n",
    "    if not pm.has_active_positions():\n",
    "        return\n",
    "\n",
    "    apdf = (\n",
    "        pd.DataFrame([asdict(p) for p in pm.get_active_positions() if p is not None]).set_index('stock')\n",
    "            .join(v.rename(columns={'Stock': 'stock'}).set_index('stock')[['Date', 'Close']])\n",
    "    )\n",
    "    apdf['holding_period'] = (k - apdf.entry_time).dt.days\n",
    "    long_running_positions = apdf[apdf.holding_period >= max_holding_period]\n",
    "    \n",
    "    for stock, lr_position in long_running_positions.iterrows():\n",
    "        pm.close_position(stock, lr_position.Date, lr_position.Close)\n",
    "        \n",
    "def book_loss(k, v, pm):\n",
    "    if not pm.has_active_positions():\n",
    "        return\n",
    "\n",
    "    apdf = (\n",
    "        pd.DataFrame([asdict(p) for p in pm.get_active_positions() if p is not None]).set_index('stock')\n",
    "            .join(v.rename(columns={'Stock': 'stock'}).set_index('stock')[['Low', 'Close', 'Date']])\n",
    "    )\n",
    "    apdf = apdf[apdf.Low <= apdf.sl]\n",
    "    apdf['perc_change'] = (apdf.avg_entry_price - apdf.Close)/apdf.avg_entry_price * 100\n",
    "\n",
    "    selected_stocks = apdf.sort_values('perc_change', ascending=False)\n",
    "    for selected_stock in selected_stocks.itertuples():\n",
    "        pm.close_position(selected_stock.Index, selected_stock.Date, selected_stock.sl)\n",
    "        \n",
    "def exit_if_removed_from_index(k, v, pm):\n",
    "    global active_positions\n",
    "    if not pm.has_active_positions():\n",
    "        return\n",
    "\n",
    "    for p in pm.get_active_positions():\n",
    "        if p.stock not in stock_changes.symbol.tolist():\n",
    "            continue\n",
    "        stock = stock_changes[stock_changes.symbol == p.stock]\n",
    "        if k > stock.end_date.values[0]:\n",
    "            pm.close_position(p.stock, k, v[v.Stock == p.stock].Close.values[0])\n",
    "\n",
    "def exit_position(k, v, pm):\n",
    "    book_profit(k, v, pm)\n",
    "    book_loss(k, v, pm)\n",
    "    exit_if_removed_from_index(k, v, pm)\n",
    "    exit_long_running_positions(k, v, pm)\n",
    "\n",
    "def backtest(pm):\n",
    "    pb = tqdm(total=len(df.Date.unique()))\n",
    "    for k, v in df.groupby('Date'):\n",
    "        global active_positions\n",
    "        \n",
    "        position = init_new_position(k, v, pm)\n",
    "        if position is None:\n",
    "            avg_out_active_positions(k, v, pm)\n",
    "\n",
    "        exit_position(k, v, pm)\n",
    "        pb.update(1)\n",
    "    pb.close()\n",
    "\n",
    "\n",
    "def main():\n",
    "    bank = Bank(initial_capital, max_positions_num)\n",
    "    pm = PositionManager(bank, tp_perc=tp_perc, sl_perc=sl_perc, leverage=leverage, mtf_rate_daily=mtf_rate_daily)\n",
    "    backtest(pm)\n",
    "    return bank, pm\n",
    "\n",
    "bank, pm = main()"
   ]
  },
  {
   "cell_type": "code",
   "execution_count": 17,
   "metadata": {
    "executionInfo": {
     "elapsed": 90,
     "status": "ok",
     "timestamp": 1755116428370,
     "user": {
      "displayName": "abhilash nanda",
      "userId": "17238874832246123978"
     },
     "user_tz": -330
    },
    "id": "oXl06aj4uu4y"
   },
   "outputs": [],
   "source": [
    "from dataclasses import  asdict\n",
    "trades = pd.DataFrame([asdict(p) for p in pm.closed_positions]).sort_values(['entry_time']).reset_index(drop=True)#.to_csv(f'{root_path}/closed_positions.csv', index=False)"
   ]
  },
  {
   "cell_type": "code",
   "execution_count": 18,
   "metadata": {},
   "outputs": [
    {
     "data": {
      "text/html": [
       "<div>\n",
       "<style scoped>\n",
       "    .dataframe tbody tr th:only-of-type {\n",
       "        vertical-align: middle;\n",
       "    }\n",
       "\n",
       "    .dataframe tbody tr th {\n",
       "        vertical-align: top;\n",
       "    }\n",
       "\n",
       "    .dataframe thead th {\n",
       "        text-align: right;\n",
       "    }\n",
       "</style>\n",
       "<table border=\"1\" class=\"dataframe\">\n",
       "  <thead>\n",
       "    <tr style=\"text-align: right;\">\n",
       "      <th></th>\n",
       "      <th>Metric</th>\n",
       "      <th>Value</th>\n",
       "    </tr>\n",
       "  </thead>\n",
       "  <tbody>\n",
       "    <tr>\n",
       "      <th>0</th>\n",
       "      <td>Period</td>\n",
       "      <td>2015-01-30 to 2025-07-29</td>\n",
       "    </tr>\n",
       "    <tr>\n",
       "      <th>1</th>\n",
       "      <td>Final capital</td>\n",
       "      <td>3075965.55</td>\n",
       "    </tr>\n",
       "    <tr>\n",
       "      <th>2</th>\n",
       "      <td>Total Trades</td>\n",
       "      <td>1,826</td>\n",
       "    </tr>\n",
       "    <tr>\n",
       "      <th>3</th>\n",
       "      <td>Winners</td>\n",
       "      <td>1,497</td>\n",
       "    </tr>\n",
       "    <tr>\n",
       "      <th>4</th>\n",
       "      <td>Losers</td>\n",
       "      <td>329</td>\n",
       "    </tr>\n",
       "    <tr>\n",
       "      <th>5</th>\n",
       "      <td>Profit factor</td>\n",
       "      <td>1.36</td>\n",
       "    </tr>\n",
       "    <tr>\n",
       "      <th>6</th>\n",
       "      <td>Active Position Count</td>\n",
       "      <td>10</td>\n",
       "    </tr>\n",
       "    <tr>\n",
       "      <th>7</th>\n",
       "      <td>Max holding period (days)</td>\n",
       "      <td>207</td>\n",
       "    </tr>\n",
       "    <tr>\n",
       "      <th>8</th>\n",
       "      <td>Avg holding period (days)</td>\n",
       "      <td>13</td>\n",
       "    </tr>\n",
       "    <tr>\n",
       "      <th>9</th>\n",
       "      <td>Win Rate (%)</td>\n",
       "      <td>81.98</td>\n",
       "    </tr>\n",
       "    <tr>\n",
       "      <th>10</th>\n",
       "      <td>Total Profit</td>\n",
       "      <td>2,075,965.55</td>\n",
       "    </tr>\n",
       "    <tr>\n",
       "      <th>11</th>\n",
       "      <td>Total Tax</td>\n",
       "      <td>1319423.22</td>\n",
       "    </tr>\n",
       "    <tr>\n",
       "      <th>12</th>\n",
       "      <td>CAGR (%)</td>\n",
       "      <td>11.30</td>\n",
       "    </tr>\n",
       "    <tr>\n",
       "      <th>13</th>\n",
       "      <td>Max Drawdown (%)</td>\n",
       "      <td>11.91</td>\n",
       "    </tr>\n",
       "  </tbody>\n",
       "</table>\n",
       "</div>"
      ],
      "text/plain": [
       "                       Metric                     Value\n",
       "0                      Period  2015-01-30 to 2025-07-29\n",
       "1               Final capital                3075965.55\n",
       "2                Total Trades                     1,826\n",
       "3                     Winners                     1,497\n",
       "4                      Losers                       329\n",
       "5               Profit factor                      1.36\n",
       "6       Active Position Count                        10\n",
       "7   Max holding period (days)                       207\n",
       "8   Avg holding period (days)                        13\n",
       "9                Win Rate (%)                     81.98\n",
       "10               Total Profit              2,075,965.55\n",
       "11                  Total Tax                1319423.22\n",
       "12                   CAGR (%)                     11.30\n",
       "13           Max Drawdown (%)                     11.91"
      ]
     },
     "execution_count": 18,
     "metadata": {},
     "output_type": "execute_result"
    }
   ],
   "source": [
    "import pandas as pd\n",
    "from datetime import datetime\n",
    "\n",
    "# Ensure entry_time and exit_time are datetime\n",
    "trades['entry_time'] = pd.to_datetime(trades['entry_time'])\n",
    "trades['exit_time'] = pd.to_datetime(trades['exit_time'])\n",
    "\n",
    "# Total trades\n",
    "total_trades = len(trades)\n",
    "\n",
    "# Win rate\n",
    "win_trades = (trades['pnl'] > 0).sum()\n",
    "win_rate = win_trades / total_trades * 100 if total_trades > 0 else 0\n",
    "\n",
    "# Total profit\n",
    "total_profit = trades['pnl'].sum() - trades['tax'].sum()\n",
    "\n",
    "# Total tax\n",
    "total_tax = trades['tax'].sum()\n",
    "\n",
    "# CAGR calculation\n",
    "start = trades['entry_time'].min()\n",
    "end = trades['exit_time'].max()\n",
    "years = (end - start).days / 365.25\n",
    "initial = initial_capital  # initial_capital from your code\n",
    "final = initial + total_profit\n",
    "cagr = ((final / initial) ** (1 / years) - 1) * 100 if years > 0 else None\n",
    "\n",
    "# Active positions\n",
    "active_position_count = sum([len(p.trades) for p in pm.get_active_positions() if p is not None])\n",
    "\n",
    "# Period\n",
    "period = f\"{start.strftime('%Y-%m-%d')} to {end.strftime('%Y-%m-%d')}\"\n",
    "\n",
    "# Max holding period\n",
    "max_holding_period = (trades['exit_time'] - trades['entry_time']).max().days\n",
    "avg_holding_period = (trades['exit_time'] - trades['entry_time']).mean().days\n",
    "\n",
    "# Final capital\n",
    "final_capital = initial + total_profit\n",
    "\n",
    "\n",
    "# Calculate drawdown\n",
    "trades['cum_pnl'] = trades['pnl'].cumsum()\n",
    "\n",
    "trades['cum_max'] = trades['cum_pnl'].cummax()\n",
    "trades['drawdown'] = trades['cum_pnl'] - trades['cum_max']\n",
    "max_drawdown = trades['drawdown'].min()\n",
    "max_drawdown_pct = abs(max_drawdown) / trades['cum_max'].max() * 100 if trades['cum_max'].max() != 0 else 0\n",
    "\n",
    "number_of_losses = len(trades[trades['pnl'] < 0])\n",
    "number_of_wins = len(trades[trades['pnl'] > 0])\n",
    "profit_factor = trades[trades['pnl'] > 0]['pnl'].sum() / abs(trades[trades['pnl'] < 0]['pnl'].sum()) if abs(trades[trades['pnl'] < 0]['pnl'].sum()) > 0 else None\n",
    "\n",
    "# Tearsheets summary\n",
    "tearsheet = pd.DataFrame({\n",
    "    'Metric': [\n",
    "        'Period',\n",
    "        'Final capital',\n",
    "        'Total Trades',\n",
    "        'Winners',\n",
    "        'Losers',\n",
    "        'Profit factor',\n",
    "        'Active Position Count',\n",
    "        'Max holding period (days)',\n",
    "        'Avg holding period (days)',\n",
    "        'Win Rate (%)',\n",
    "        'Total Profit',\n",
    "        'Total Tax',\n",
    "        'CAGR (%)',\n",
    "        'Max Drawdown (%)'\n",
    "    ],\n",
    "    'Value': [\n",
    "        period,\n",
    "        f\"{final_capital:.2f}\",\n",
    "        f\"{total_trades:,}\",\n",
    "        f\"{number_of_wins:,}\",\n",
    "        f\"{number_of_losses:,}\",\n",
    "        f\"{profit_factor:.2f}\" if profit_factor else \"N/A\",\n",
    "        f\"{active_position_count:,}\",\n",
    "        f\"{max_holding_period:,}\",\n",
    "        f\"{avg_holding_period:,}\",\n",
    "        f\"{win_rate:.2f}\",\n",
    "        f\"{total_profit:,.2f}\",\n",
    "        f\"{total_tax:.2f}\" if total_tax else \"N/A\",\n",
    "        f\"{cagr:.2f}\" if cagr else \"N/A\",\n",
    "        f\"{max_drawdown_pct:,.2f}\"\n",
    "    ]\n",
    "})\n",
    "\n",
    "tearsheet"
   ]
  },
  {
   "cell_type": "code",
   "execution_count": 9,
   "metadata": {},
   "outputs": [
    {
     "data": {
      "image/png": "[encoded data removed]",
      "text/plain": [
       "<Figure size 1000x600 with 1 Axes>"
      ]
     },
     "metadata": {},
     "output_type": "display_data"
    }
   ],
   "source": [
    "snapdf = pd.DataFrame(pd.DataFrame(bank.snapshot).max(), columns=['max'])\n",
    "bucdf = pd.DataFrame(bank.bucket_usage_count, index=[0]).T\n",
    "bucket_distribution = pd.concat([snapdf, bucdf], axis=1).rename(columns={0: 'usage_count'}).reset_index().rename(columns={'index': 'bucket_id'})\n",
    "\n",
    "# ...existing code...\n",
    "import matplotlib.pyplot as plt\n",
    "\n",
    "plt.figure(figsize=(10, 6))\n",
    "plt.bar(range(len(bucket_distribution['bucket_id'])), bucket_distribution['max'], edgecolor='black')\n",
    "plt.title('Bar Chart of Bucket Distribution (Max Value)')\n",
    "plt.xlabel('Bucket ID')\n",
    "plt.ylabel('Max Value in Bucket')\n",
    "plt.xticks(rotation=45)\n",
    "plt.show()"
   ]
  },
  {
   "cell_type": "code",
   "execution_count": 10,
   "metadata": {},
   "outputs": [
    {
     "data": {
      "text/plain": [
       "<Axes: title={'center': 'Cumulative PnL vs Exit Time'}, xlabel='exit_time'>"
      ]
     },
     "execution_count": 10,
     "metadata": {},
     "output_type": "execute_result"
    },
    {
     "data": {
      "image/png": "[encoded data removed]",
      "text/plain": [
       "<Figure size 1200x600 with 1 Axes>"
      ]
     },
     "metadata": {},
     "output_type": "display_data"
    }
   ],
   "source": [
    "# ...existing code...\n",
    "trades = trades.sort_values(['exit_time']).reset_index(drop=True)\n",
    "trades['cum_pnl'] = trades['pnl'].cumsum()\n",
    "trades.plot(x='exit_time', y='cum_pnl', title='Cumulative PnL vs Exit Time', figsize=(12, 6))"
   ]
  },
  {
   "cell_type": "code",
   "execution_count": 11,
   "metadata": {},
   "outputs": [
    {
     "data": {
      "image/png": "[encoded data removed]",
      "text/plain": [
       "<Figure size 1000x600 with 1 Axes>"
      ]
     },
     "metadata": {},
     "output_type": "display_data"
    }
   ],
   "source": [
    "# ...existing code...\n",
    "import matplotlib.pyplot as plt\n",
    "\n",
    "# Extract year from exit_time\n",
    "trades['exit_year'] = trades['exit_time'].dt.year\n",
    "\n",
    "# Group by year and sum pnl\n",
    "yearly_pnl = trades.groupby('exit_year')['pnl'].sum()\n",
    "\n",
    "plt.figure(figsize=(10, 6))\n",
    "yearly_pnl.plot(kind='bar', edgecolor='black')\n",
    "plt.title('Year-wise PnL')\n",
    "plt.xlabel('Year')\n",
    "plt.ylabel('Total PnL')\n",
    "plt.xticks(rotation=45)\n",
    "plt.show()\n",
    "#"
   ]
  },
  {
   "cell_type": "code",
   "execution_count": 12,
   "metadata": {},
   "outputs": [],
   "source": [
    "losses = [c for c in pm.closed_positions if c.pnl < 0]\n",
    "losses_df = pd.DataFrame([asdict(p) for p in losses]).sort_values(['entry_time']).reset_index(drop=True)\n",
    "losses_df.to_csv('losses.csv', index=False)"
   ]
  }
 ],
 "metadata": {
  "colab": {
   "authorship_tag": "ABX9TyOs+u3P0D+KeKQn8d9CdFIf",
   "mount_file_id": "1emSu8CDgOgWv6lScjyRlOx8Zukm4qtFJ",
   "provenance": [
    {
     "file_id": "1ua4CU_bLlvF1uEkt5ACOxL61ymhu6huB",
     "timestamp": 1754922697520
    }
   ]
  },
  "kernelspec": {
   "display_name": "Python 3",
   "name": "python3"
  },
  "language_info": {
   "codemirror_mode": {
    "name": "ipython",
    "version": 3
   },
   "file_extension": ".py",
   "mimetype": "text/x-python",
   "name": "python",
   "nbconvert_exporter": "python",
   "pygments_lexer": "ipython3",
   "version": "3.12.1"
  }
 },
 "nbformat": 4,
 "nbformat_minor": 0
}

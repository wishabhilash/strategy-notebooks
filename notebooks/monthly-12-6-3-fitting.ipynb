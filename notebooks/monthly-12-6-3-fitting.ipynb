{
 "cells": [
  {
   "cell_type": "code",
   "execution_count": 1,
   "id": "2d40ef8f",
   "metadata": {},
   "outputs": [],
   "source": [
    "import pandas as pd\n",
    "\n",
    "nifty100_df = pd.read_csv('nifty100.csv')\n",
    "tickers = [ f'NSE:{n}-EQ' for n in nifty100_df.Symbol.tolist()]"
   ]
  },
  {
   "cell_type": "code",
   "execution_count": 2,
   "id": "b34129f7",
   "metadata": {},
   "outputs": [
    {
     "name": "stderr",
     "output_type": "stream",
     "text": [
      "Downloading data: 100%|██████████| 100/100 [00:00<00:00, 73584.28ticker/s]\n",
      "Loading 1Dmin data: 100%|██████████| 100/100 [00:00<00:00, 500.81it/s]\n"
     ]
    }
   ],
   "source": [
    "from fyers_helper import prepare_data, load_stock_data\n",
    "import datetime as dt\n",
    "\n",
    "data_path = \"../data\"\n",
    "\n",
    "end_date = dt.datetime.now()\n",
    "start_date = dt.datetime(2015, 1, 1)\n",
    "\n",
    "file_paths = prepare_data(tickers, \"1D\", start_date=start_date, end_date=end_date, path=data_path, overwrite=False)\n",
    "loaded_data = load_stock_data(file_paths, data_path, \"1D\")"
   ]
  },
  {
   "cell_type": "code",
   "execution_count": 3,
   "id": "bd96de1a",
   "metadata": {},
   "outputs": [],
   "source": [
    "ohlc_dict = {\n",
    "    'Open': 'first',\n",
    "    'Close': 'last',\n",
    "    'exit_time': 'last'\n",
    "}\n",
    "\n",
    "df = pd.concat(loaded_data, names=[\"Stock\", \"Date\"]).reset_index()\n",
    "# df = df[df.Date > '2024-07-01'].reset_index(drop=True)\n",
    "df['exit_time'] = df.Date.shift(-1)\n",
    "# df = df.set_index(['Stock', 'Date']).sort_index()\n",
    "df = df.groupby('Stock').resample('MS', on='Date').agg(ohlc_dict)"
   ]
  },
  {
   "cell_type": "code",
   "execution_count": 4,
   "id": "28cd7762",
   "metadata": {},
   "outputs": [],
   "source": [
    "df['entry_price'] = df.groupby('Stock')['Open'].shift(-1)\n",
    "df['exit_price'] = df.groupby('Stock')['Close'].shift(-1)\n",
    "df['returns'] = df.groupby('Stock')['Close'].diff()\n",
    "df['returns_perc'] = df.groupby('Stock')['Close'].pct_change()\n",
    "df['next_month_returns'] = df.groupby('Stock')['returns'].shift(-1)\n",
    "df['next_month_returns_perc'] = df.groupby('Stock')['returns_perc'].shift(-1)"
   ]
  },
  {
   "cell_type": "code",
   "execution_count": 5,
   "id": "04f375d5",
   "metadata": {},
   "outputs": [],
   "source": [
    "from sklearn.linear_model import LinearRegression\n",
    "\n",
    "def rolling_monthly_slope_fitness(df, window=12):\n",
    "    df = df.sort_values(['Stock', 'Date'])\n",
    "    results = []\n",
    "    for stock, group in df.groupby('Stock'):\n",
    "        group = group.reset_index(drop=True)\n",
    "        group['Date_ordinal'] = group['Date'].map(lambda x: x.toordinal())\n",
    "        for i in range(len(group) - window + 1):\n",
    "            window_df = group.iloc[i:i+window]\n",
    "            X = window_df['Date_ordinal'].values.reshape(-1, 1)\n",
    "            y = window_df['Close'].values\n",
    "            model = LinearRegression().fit(X, y)\n",
    "            slope = model.coef_[0]\n",
    "            fitness = model.score(X, y)  # R² score\n",
    "            results.append({\n",
    "                'Stock': stock,\n",
    "                'Start_Date': window_df['Date'].iloc[0],\n",
    "                'End_Date': window_df['Date'].iloc[-1],\n",
    "                f'Slope_{window}m': slope,\n",
    "                f'Fitness_{window}m': fitness\n",
    "            })\n",
    "    return pd.DataFrame(results).set_index(['Stock', 'End_Date'])\n",
    "\n",
    "# Usage:\n",
    "slope_12m = rolling_monthly_slope_fitness(df.reset_index(), window=12)\n",
    "slope_12m['score'] = slope_12m['Slope_12m'] * slope_12m['Fitness_12m']\n",
    "\n",
    "start_date = slope_12m.index.get_level_values('End_Date')[0]\n",
    "\n",
    "slope_6m = rolling_monthly_slope_fitness(df.reset_index(), window=6)\n",
    "slope_6m['score'] = slope_6m['Slope_6m'] * slope_6m['Fitness_6m']\n",
    "slope_6m = slope_6m[slope_6m.index.get_level_values('End_Date') >= start_date]\n",
    "\n",
    "slope_3m = rolling_monthly_slope_fitness(df.reset_index(), window=3)\n",
    "slope_3m['score'] = slope_3m['Slope_3m'] * slope_3m['Fitness_3m']\n",
    "slope_3m = slope_3m[slope_3m.index.get_level_values('End_Date') >= start_date]"
   ]
  },
  {
   "cell_type": "code",
   "execution_count": 6,
   "id": "a7da4557",
   "metadata": {},
   "outputs": [],
   "source": [
    "def top_n(_df, n, mask=None):\n",
    "    dfs = []\n",
    "    for idx, row in _df.groupby('End_Date'):\n",
    "        date_mask = []\n",
    "        if mask is not None:\n",
    "            date_mask = mask.loc[idx].index.tolist()\n",
    "            dfs.append(row.loc[date_mask].score.nlargest(n))\n",
    "        else:\n",
    "            dfs.append(row.score.nlargest(n))\n",
    "    return pd.concat(dfs)\n",
    "\n",
    "top_50 = top_n(slope_12m, 50)\n",
    "top_30 = top_n(slope_6m, 30, top_50.swaplevel('Stock', 'End_Date').sort_index())\n",
    "top_10 = top_n(slope_3m, 10, top_30.swaplevel('Stock', 'End_Date').sort_index())\n",
    "top_10 = top_10.swaplevel('Stock', 'End_Date').sort_index()"
   ]
  },
  {
   "cell_type": "code",
   "execution_count": null,
   "id": "6b201dcd",
   "metadata": {},
   "outputs": [
    {
     "name": "stdout",
     "output_type": "stream",
     "text": [
      "capital not available - 0.0\n"
     ]
    }
   ],
   "source": [
    "from lib import Bank, PositionManager\n",
    "\n",
    "initial_capital = 500000\n",
    "leverage = 5\n",
    "\n",
    "\n",
    "def backtest(pm: PositionManager):\n",
    "    data = df[df.index.get_level_values(1) >= start_date].dropna(subset=['entry_price', 'exit_price'])\n",
    "    for idx, group in data.groupby('Date'):\n",
    "        date = idx\n",
    "        selected_stocks = top_10.loc[date].index.tolist()\n",
    "        capital_split = pm.bank.total_capital() / len(selected_stocks)\n",
    "        for s in selected_stocks:\n",
    "            d = group.loc[(s, date)]\n",
    "            capital = d['entry_price'] * round(capital_split/d['entry_price'])\n",
    "            pm.new_position(s, date, d['entry_price'], capital)\n",
    "        \n",
    "        for s in selected_stocks:\n",
    "            if pm.get_position(s) is not None:\n",
    "                d = group.loc[(s, date)]\n",
    "                pm.close_position(s, d['exit_time'], d['exit_price'])\n",
    "\n",
    "if __name__ == \"__main__\":\n",
    "    bank = Bank(initial_capital)\n",
    "    pm = PositionManager(bank, leverage=leverage)\n",
    "    backtest(pm)"
   ]
  },
  {
   "cell_type": "code",
   "execution_count": null,
   "id": "c528167a",
   "metadata": {},
   "outputs": [],
   "source": [
    "trades = pm.get_trades()"
   ]
  },
  {
   "cell_type": "code",
   "execution_count": 13,
   "id": "7dbb0cdb",
   "metadata": {},
   "outputs": [
    {
     "name": "stdout",
     "output_type": "stream",
     "text": [
      "                       Metric                     Value\n",
      "0                      Period  2015-12-01 to 2025-08-01\n",
      "1            Starting capital                 500000.00\n",
      "2               Final capital                1045998.00\n",
      "3                Total Trades                     1,159\n",
      "4                     Winners                       642\n",
      "5                      Losers                       517\n",
      "6               Profit factor                      1.21\n",
      "7       Active Position Count                         0\n",
      "8   Max holding period (days)                        33\n",
      "9   Avg holding period (days)                        31\n",
      "10               Win Rate (%)                     55.39\n",
      "11               Total Profit                545,998.00\n",
      "12            Total Brokerage                      0.00\n",
      "13                  Total Tax                2516723.30\n",
      "14                  Total MTF                2320870.33\n",
      "15                   CAGR (%)                      7.93\n",
      "16           Max Drawdown (%)                     39.81\n"
     ]
    },
    {
     "data": {
      "image/png": "[encoded data removed]",
      "text/plain": [
       "<Figure size 1200x600 with 1 Axes>"
      ]
     },
     "metadata": {},
     "output_type": "display_data"
    }
   ],
   "source": [
    "from lib import print_tearsheet, show_equity_curve\n",
    "\n",
    "print_tearsheet(initial_capital=initial_capital, pm=pm, trades=trades)\n",
    "show_equity_curve(trades)"
   ]
  }
 ],
 "metadata": {
  "kernelspec": {
   "display_name": ".venv",
   "language": "python",
   "name": "python3"
  },
  "language_info": {
   "codemirror_mode": {
    "name": "ipython",
    "version": 3
   },
   "file_extension": ".py",
   "mimetype": "text/x-python",
   "name": "python",
   "nbconvert_exporter": "python",
   "pygments_lexer": "ipython3",
   "version": "3.10.18"
  }
 },
 "nbformat": 4,
 "nbformat_minor": 5
}

{
 "cells": [
  {
   "cell_type": "code",
   "execution_count": 1,
   "id": "2d40ef8f",
   "metadata": {},
   "outputs": [],
   "source": [
    "import pandas as pd\n",
    "\n",
    "nifty100_df = pd.read_csv('nifty100.csv')\n",
    "tickers = [ f'NSE:{n}-EQ' for n in nifty100_df.Symbol.tolist()]"
   ]
  },
  {
   "cell_type": "code",
   "execution_count": 2,
   "id": "b34129f7",
   "metadata": {},
   "outputs": [
    {
     "name": "stderr",
     "output_type": "stream",
     "text": [
      "Downloading data: 100%|██████████| 100/100 [00:00<00:00, 126068.65ticker/s]\n",
      "Loading 1Dmin data: 100%|██████████| 100/100 [00:00<00:00, 488.34it/s]\n"
     ]
    }
   ],
   "source": [
    "from fyers_helper import prepare_data, load_stock_data\n",
    "import datetime as dt\n",
    "\n",
    "data_path = \"../data\"\n",
    "\n",
    "end_date = dt.datetime.now()\n",
    "start_date = dt.datetime(2015, 1, 1)\n",
    "\n",
    "file_paths = prepare_data(tickers, \"1D\", start_date=start_date, end_date=end_date, path=data_path, overwrite=False)\n",
    "loaded_data = load_stock_data(file_paths, data_path, \"1D\")"
   ]
  },
  {
   "cell_type": "code",
   "execution_count": 3,
   "id": "bd96de1a",
   "metadata": {},
   "outputs": [],
   "source": [
    "ohlc_dict = {\n",
    "    'Open': 'first',\n",
    "    'Close': 'last',\n",
    "    'exit_time': 'last'\n",
    "}\n",
    "\n",
    "df = pd.concat(loaded_data, names=[\"Stock\", \"Date\"]).reset_index()\n",
    "# df = df[df.Date > '2023-01-01'].reset_index(drop=True)\n",
    "df['exit_time'] = df.Date\n",
    "# df = df.set_index(['Stock', 'Date']).sort_index()\n",
    "df = df.groupby('Stock').resample('MS', on='Date').agg(ohlc_dict)"
   ]
  },
  {
   "cell_type": "code",
   "execution_count": 4,
   "id": "28cd7762",
   "metadata": {},
   "outputs": [],
   "source": [
    "df['entry_price'] = df.groupby('Stock')['Open'].shift(-1)\n",
    "df['exit_price'] = df.groupby('Stock')['Close'].shift(-6)\n",
    "df['exit_time'] = df.groupby('Stock')['exit_time'].shift(-6)\n",
    "df['returns'] = df.groupby('Stock')['Close'].diff()\n",
    "df['returns_perc'] = df.groupby('Stock')['Close'].pct_change()\n",
    "df['next_month_returns'] = df.groupby('Stock')['returns'].shift(-1)\n",
    "df['next_month_returns_perc'] = df.groupby('Stock')['returns_perc'].shift(-1)"
   ]
  },
  {
   "cell_type": "code",
   "execution_count": 5,
   "id": "9bfd3962",
   "metadata": {},
   "outputs": [],
   "source": [
    "df = df.dropna()"
   ]
  },
  {
   "cell_type": "code",
   "execution_count": 6,
   "id": "04f375d5",
   "metadata": {},
   "outputs": [],
   "source": [
    "from sklearn.linear_model import LinearRegression\n",
    "\n",
    "def rolling_monthly_slope_fitness(df, window=12):\n",
    "    df = df.sort_values(['Stock', 'Date'])\n",
    "    results = []\n",
    "    for stock, group in df.groupby('Stock'):\n",
    "        group = group.reset_index(drop=True)\n",
    "        group['Date_ordinal'] = group['Date'].map(lambda x: x.toordinal())\n",
    "        for i in range(len(group) - window + 1):\n",
    "            window_df = group.iloc[i:i+window]\n",
    "            X = window_df['Date_ordinal'].values.reshape(-1, 1)\n",
    "            y = window_df['Close'].values\n",
    "            model = LinearRegression().fit(X, y)\n",
    "            slope = model.coef_[0]\n",
    "            fitness = model.score(X, y)  # R² score\n",
    "            results.append({\n",
    "                'Stock': stock,\n",
    "                'Start_Date': window_df['Date'].iloc[0],\n",
    "                'End_Date': window_df['Date'].iloc[-1],\n",
    "                f'Slope_{window}m': slope,\n",
    "                f'Fitness_{window}m': fitness\n",
    "            })\n",
    "    return pd.DataFrame(results).set_index(['Stock', 'End_Date'])\n",
    "\n",
    "# Usage:\n",
    "slope_12m = rolling_monthly_slope_fitness(df.reset_index(), window=12)\n",
    "slope_12m['score'] = slope_12m['Slope_12m'] * slope_12m['Fitness_12m']"
   ]
  },
  {
   "cell_type": "code",
   "execution_count": 7,
   "id": "a7da4557",
   "metadata": {},
   "outputs": [],
   "source": [
    "def top_n(_df, n, mask=None):\n",
    "    dfs = []\n",
    "    for idx, row in _df.groupby('End_Date'):\n",
    "        date_mask = []\n",
    "        if mask is not None:\n",
    "            date_mask = mask.loc[idx].index.tolist()\n",
    "            dfs.append(row.loc[date_mask].score.nlargest(n))\n",
    "        else:\n",
    "            dfs.append(row.score.nlargest(n))\n",
    "    return pd.concat(dfs)\n",
    "\n",
    "top_n = top_n(slope_12m, 50)\n",
    "top_n = top_n.swaplevel('Stock', 'End_Date').sort_index()"
   ]
  },
  {
   "cell_type": "code",
   "execution_count": 8,
   "id": "6b201dcd",
   "metadata": {},
   "outputs": [
    {
     "name": "stdout",
     "output_type": "stream",
     "text": [
      "                      Metrics                    Values\n",
      "0                      Period  2016-01-01 to 2025-08-29\n",
      "1            Starting capital                    600000\n",
      "2               Final capital                5179246.11\n",
      "3                Total Trades                      5385\n",
      "4                     Winners                      3599\n",
      "5                      Losers                      1786\n",
      "6               Profit factor                  3.549026\n",
      "7       Active Position Count                         0\n",
      "8   Max holding period (days)                       214\n",
      "9   Avg holding period (days)                       211\n",
      "10               Win Rate (%)                 66.833798\n",
      "11               Total Profit                4579246.11\n",
      "12            Total Brokerage                       0.0\n",
      "13                  Total Tax                  16215.08\n",
      "14                  Total MTF                       N/A\n",
      "15                   CAGR (%)                 25.001435\n",
      "16          Max Drawdown (%):                  9.852574\n"
     ]
    },
    {
     "data": {
      "image/png": "[encoded data removed]",
      "text/plain": [
       "<Figure size 1200x600 with 1 Axes>"
      ]
     },
     "metadata": {},
     "output_type": "display_data"
    },
    {
     "data": {
      "image/png": "[encoded data removed]",
      "text/plain": [
       "<Figure size 1000x600 with 1 Axes>"
      ]
     },
     "metadata": {},
     "output_type": "display_data"
    }
   ],
   "source": [
    "from lib import Bank, PositionManager, generate_tearsheet, show_equity_curve\n",
    "\n",
    "initial_capital = 600000\n",
    "leverage = 1\n",
    "buckets = 6\n",
    "\n",
    "\n",
    "def backtest(pm: PositionManager):\n",
    "    data = df[df.index.get_level_values(1) >= start_date].dropna(subset=['entry_price', 'exit_price'])\n",
    "    for idx, group in data.groupby('Date'):\n",
    "        date = idx\n",
    "        try:\n",
    "            selected_stocks = top_n.loc[date].index.tolist()\n",
    "        except Exception as e:\n",
    "            continue\n",
    "        capital_split = round(pm.bank.total_capital() / buckets / len(selected_stocks), 2)\n",
    "        for s in selected_stocks:\n",
    "            d = group.loc[(s, date)]\n",
    "            capital = d['entry_price'] * round(capital_split/d['entry_price'])\n",
    "            pm.new_position(s, date, d['entry_price'], capital)\n",
    "        \n",
    "        for s in selected_stocks:\n",
    "            if pm.get_position(s) is not None:\n",
    "                d = group.loc[(s, date)]\n",
    "                pm.close_position(s, d['exit_time'], d['exit_price'])\n",
    "\n",
    "    return generate_tearsheet(initial_capital, pm)\n",
    "\n",
    "if __name__ == \"__main__\":\n",
    "    bank = Bank(initial_capital)\n",
    "    pm = PositionManager(bank, leverage=leverage)\n",
    "    tearsheet, trades = backtest(pm)\n",
    "    print(pd.DataFrame({\n",
    "        \"Metrics\": tearsheet.keys(),\n",
    "        \"Values\": tearsheet.values(),\n",
    "    }))\n",
    "    show_equity_curve(trades)"
   ]
  },
  {
   "cell_type": "code",
   "execution_count": 9,
   "id": "d7f425a3",
   "metadata": {},
   "outputs": [
    {
     "name": "stdout",
     "output_type": "stream",
     "text": [
      "                      Metrics                    Values\n",
      "0                      Period  2016-01-01 to 2019-12-31\n",
      "1            Starting capital                    600000\n",
      "2               Final capital                1114245.46\n",
      "3                Total Trades                      2030\n",
      "4                     Winners                      1341\n",
      "5                      Losers                       689\n",
      "6               Profit factor                  3.106683\n",
      "7       Active Position Count                         0\n",
      "8   Max holding period (days)                       214\n",
      "9   Avg holding period (days)                       211\n",
      "10               Win Rate (%)                 66.059113\n",
      "11               Total Profit                 514245.46\n",
      "12            Total Brokerage                       0.0\n",
      "13                  Total Tax                    2489.4\n",
      "14                  Total MTF                       N/A\n",
      "15                   CAGR (%)                 16.749072\n",
      "16          Max Drawdown (%):                  2.068842\n"
     ]
    },
    {
     "name": "stderr",
     "output_type": "stream",
     "text": [
      "/Users/abhilashnanda/code/strategy-notebooks/notebooks/lib.py:208: SettingWithCopyWarning: \n",
      "A value is trying to be set on a copy of a slice from a DataFrame.\n",
      "Try using .loc[row_indexer,col_indexer] = value instead\n",
      "\n",
      "See the caveats in the documentation: https://pandas.pydata.org/pandas-docs/stable/user_guide/indexing.html#returning-a-view-versus-a-copy\n",
      "  trades['entry_time'] = pd.to_datetime(trades['entry_time'])\n",
      "/Users/abhilashnanda/code/strategy-notebooks/notebooks/lib.py:209: SettingWithCopyWarning: \n",
      "A value is trying to be set on a copy of a slice from a DataFrame.\n",
      "Try using .loc[row_indexer,col_indexer] = value instead\n",
      "\n",
      "See the caveats in the documentation: https://pandas.pydata.org/pandas-docs/stable/user_guide/indexing.html#returning-a-view-versus-a-copy\n",
      "  trades['exit_time'] = pd.to_datetime(trades['exit_time'])\n",
      "/Users/abhilashnanda/code/strategy-notebooks/notebooks/lib.py:210: SettingWithCopyWarning: \n",
      "A value is trying to be set on a copy of a slice from a DataFrame.\n",
      "Try using .loc[row_indexer,col_indexer] = value instead\n",
      "\n",
      "See the caveats in the documentation: https://pandas.pydata.org/pandas-docs/stable/user_guide/indexing.html#returning-a-view-versus-a-copy\n",
      "  trades['returns'] = (trades['pnl'] / (trades['avg_entry_price'] * trades['quantity']))\n",
      "/Users/abhilashnanda/code/strategy-notebooks/notebooks/lib.py:254: SettingWithCopyWarning: \n",
      "A value is trying to be set on a copy of a slice from a DataFrame.\n",
      "Try using .loc[row_indexer,col_indexer] = value instead\n",
      "\n",
      "See the caveats in the documentation: https://pandas.pydata.org/pandas-docs/stable/user_guide/indexing.html#returning-a-view-versus-a-copy\n",
      "  trades['cum_pnl'] = initial_capital + trades['pnl'].cumsum()\n",
      "/Users/abhilashnanda/code/strategy-notebooks/notebooks/lib.py:256: SettingWithCopyWarning: \n",
      "A value is trying to be set on a copy of a slice from a DataFrame.\n",
      "Try using .loc[row_indexer,col_indexer] = value instead\n",
      "\n",
      "See the caveats in the documentation: https://pandas.pydata.org/pandas-docs/stable/user_guide/indexing.html#returning-a-view-versus-a-copy\n",
      "  trades['cum_max'] = trades['cum_pnl'].cummax()\n",
      "/Users/abhilashnanda/code/strategy-notebooks/notebooks/lib.py:257: SettingWithCopyWarning: \n",
      "A value is trying to be set on a copy of a slice from a DataFrame.\n",
      "Try using .loc[row_indexer,col_indexer] = value instead\n",
      "\n",
      "See the caveats in the documentation: https://pandas.pydata.org/pandas-docs/stable/user_guide/indexing.html#returning-a-view-versus-a-copy\n",
      "  trades['drawdown'] = trades['cum_pnl'] - trades['cum_max']\n",
      "/Users/abhilashnanda/code/strategy-notebooks/notebooks/lib.py:258: SettingWithCopyWarning: \n",
      "A value is trying to be set on a copy of a slice from a DataFrame.\n",
      "Try using .loc[row_indexer,col_indexer] = value instead\n",
      "\n",
      "See the caveats in the documentation: https://pandas.pydata.org/pandas-docs/stable/user_guide/indexing.html#returning-a-view-versus-a-copy\n",
      "  trades['drawdown_pct'] = trades['drawdown'] / trades['cum_max'] * 100\n"
     ]
    }
   ],
   "source": [
    "from lib import generate_tearsheet\n",
    "\n",
    "ts, _ = generate_tearsheet(initial_capital, pm, trades[trades.exit_time.dt.date < dt.date(2020,1,1)])\n",
    "print(pd.DataFrame({\n",
    "    \"Metrics\": ts.keys(),\n",
    "    \"Values\": ts.values(),\n",
    "}))"
   ]
  }
 ],
 "metadata": {
  "kernelspec": {
   "display_name": ".venv",
   "language": "python",
   "name": "python3"
  },
  "language_info": {
   "codemirror_mode": {
    "name": "ipython",
    "version": 3
   },
   "file_extension": ".py",
   "mimetype": "text/x-python",
   "name": "python",
   "nbconvert_exporter": "python",
   "pygments_lexer": "ipython3",
   "version": "3.10.18"
  }
 },
 "nbformat": 4,
 "nbformat_minor": 5
}

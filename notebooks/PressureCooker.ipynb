{
 "cells": [
  {
   "cell_type": "code",
   "execution_count": 59,
   "metadata": {
    "executionInfo": {
     "elapsed": 718,
     "status": "ok",
     "timestamp": 1755107867523,
     "user": {
      "displayName": "abhilash nanda",
      "userId": "17238874832246123978"
     },
     "user_tz": -330
    },
    "id": "kUV3wR62-bk"
   },
   "outputs": [],
   "source": [
    "import pandas as pd\n",
    "\n",
    "nifty200_df = pd.read_csv('nifty200.csv')\n",
    "tickers = [ f'NSE:{n}-EQ' for n in nifty200_df.Symbol.tolist()]"
   ]
  },
  {
   "cell_type": "code",
   "execution_count": 60,
   "metadata": {
    "colab": {
     "base_uri": "https://localhost:8080/"
    },
    "executionInfo": {
     "elapsed": 22666,
     "status": "ok",
     "timestamp": 1755107891283,
     "user": {
      "displayName": "abhilash nanda",
      "userId": "17238874832246123978"
     },
     "user_tz": -330
    },
    "id": "JzbFDktrVkjF",
    "outputId": "73266f45-1282-495e-d581-d5e826e5a6ca"
   },
   "outputs": [
    {
     "name": "stderr",
     "output_type": "stream",
     "text": [
      "Downloading data: 100%|██████████| 200/200 [00:00<00:00, 118149.41ticker/s]\n",
      "Loading 1Dmin data: 100%|██████████| 200/200 [00:00<00:00, 475.44it/s]\n"
     ]
    }
   ],
   "source": [
    "from fyers_helper import prepare_data, load_stock_data\n",
    "import datetime as dt\n",
    "\n",
    "data_path = \"../data\"\n",
    "\n",
    "end_date = dt.datetime.now()\n",
    "start_date = dt.datetime(2015, 1, 1)\n",
    "\n",
    "file_paths = prepare_data(tickers, \"1D\", start_date=start_date, end_date=end_date, path=data_path, overwrite=False)\n",
    "loaded_data_1D = load_stock_data(file_paths, data_path, \"1D\")"
   ]
  },
  {
   "cell_type": "code",
   "execution_count": 61,
   "metadata": {},
   "outputs": [
    {
     "name": "stderr",
     "output_type": "stream",
     "text": [
      "Downloading data: 100%|██████████| 200/200 [00:00<00:00, 37800.14ticker/s]\n",
      "Loading 5min data: 100%|██████████| 200/200 [00:01<00:00, 199.38it/s]\n"
     ]
    }
   ],
   "source": [
    "from fyers_helper import prepare_data, load_stock_data\n",
    "import datetime as dt\n",
    "\n",
    "data_path = \"../data5m\"\n",
    "\n",
    "end_date = dt.datetime.now()\n",
    "start_date = dt.datetime(2020, 1, 1)\n",
    "\n",
    "file_paths = prepare_data(tickers, \"5\", start_date=start_date, end_date=end_date, path=data_path, overwrite=False)\n",
    "loaded_data_5m = load_stock_data(file_paths, data_path, \"5\")"
   ]
  },
  {
   "cell_type": "code",
   "execution_count": 62,
   "metadata": {
    "executionInfo": {
     "elapsed": 3,
     "status": "ok",
     "timestamp": 1755112636961,
     "user": {
      "displayName": "abhilash nanda",
      "userId": "17238874832246123978"
     },
     "user_tz": -330
    },
    "id": "8a9814d7"
   },
   "outputs": [],
   "source": [
    "df = pd.concat(loaded_data_1D, names=[\"Stock\", \"Date\"]).reset_index()\n",
    "df = df[df.Date <= '2025-08-11 05:30:00']\n",
    "\n",
    "df5m = pd.concat(loaded_data_5m, names=[\"Stock\", \"Date\"]).reset_index()\n",
    "df5m = df[df.Date <= '2025-08-11 05:30:00']"
   ]
  },
  {
   "cell_type": "code",
   "execution_count": 63,
   "metadata": {
    "executionInfo": {
     "elapsed": 86,
     "status": "ok",
     "timestamp": 1755112638620,
     "user": {
      "displayName": "abhilash nanda",
      "userId": "17238874832246123978"
     },
     "user_tz": -330
    },
    "id": "u3ANeqXE-fiF"
   },
   "outputs": [],
   "source": [
    "import talib as ta\n",
    "\n",
    "price_band = 0.03\n",
    "\n",
    "df.Date = pd.to_datetime(df.Date)\n",
    "\n",
    "# Calculate RSI per stock\n",
    "df['SMA5'] = df.groupby('Stock')['Close'].transform(lambda x: ta.SMA(x, timeperiod=5))\n",
    "df['SMA20'] = df.groupby('Stock')['Close'].transform(lambda x: ta.SMA(x, timeperiod=20))\n",
    "df['SMA50'] = df.groupby('Stock')['Close'].transform(lambda x: ta.SMA(x, timeperiod=50))\n",
    "df['SMA100'] = df.groupby('Stock')['Close'].transform(lambda x: ta.SMA(x, timeperiod=100))\n",
    "df['SMA200'] = df.groupby('Stock')['Close'].transform(lambda x: ta.SMA(x, timeperiod=200))\n",
    "\n",
    "df['VOL_SMA20'] = df.groupby('Stock')['Volume'].transform(lambda x: ta.SMA(x, timeperiod=20))\n",
    "\n",
    "df['upper_threashold'] = df.Close * (1 + price_band)\n",
    "df['lower_threashold'] = df.Close * (1 - price_band)\n",
    "\n",
    "df['Entry_Price'] = df.groupby('Stock')['Close'].shift(-1)\n",
    "df['Entry_Time'] = df.groupby('Stock')['Date'].shift(-1)\n",
    "df['NxtHigh'] = df.groupby('Stock')['High'].shift(-1)\n",
    "df['NxtClose'] = df.groupby('Stock')['Close'].shift(-1)\n",
    "\n",
    "# df = df[df.Date >= '2020-01-01 05:30:00']"
   ]
  },
  {
   "cell_type": "code",
   "execution_count": 64,
   "metadata": {
    "colab": {
     "base_uri": "https://localhost:8080/"
    },
    "executionInfo": {
     "elapsed": 6539,
     "status": "ok",
     "timestamp": 1755112647576,
     "user": {
      "displayName": "abhilash nanda",
      "userId": "17238874832246123978"
     },
     "user_tz": -330
    },
    "id": "lofTRsxmAPG5",
    "outputId": "aec4ccc7-605d-437a-b990-96c5f0a74b5d"
   },
   "outputs": [],
   "source": [
    "signals = (\n",
    "    df[\n",
    "        (df.upper_threashold > df.SMA5) & (df.lower_threashold < df.SMA5) &\n",
    "        (df.upper_threashold > df.SMA20) & (df.lower_threashold < df.SMA20) &\n",
    "        (df.upper_threashold > df.SMA50) & (df.lower_threashold < df.SMA50) &\n",
    "        (df.upper_threashold > df.SMA100) & (df.lower_threashold < df.SMA100) &\n",
    "        (df.upper_threashold > df.SMA200) & (df.lower_threashold < df.SMA200) &\n",
    "        (df.NxtClose >= df.upper_threashold)\n",
    "    ]\n",
    ")\n",
    "signals = signals.sort_values(['Date', 'VOL_SMA20'], ascending=[True, False]).groupby('Date').head(3).reset_index(drop=True)"
   ]
  },
  {
   "cell_type": "code",
   "execution_count": 65,
   "metadata": {},
   "outputs": [
    {
     "data": {
      "text/plain": [
       "(359,)"
      ]
     },
     "execution_count": 65,
     "metadata": {},
     "output_type": "execute_result"
    }
   ],
   "source": [
    "signals.Date.unique().shape"
   ]
  },
  {
   "cell_type": "markdown",
   "metadata": {},
   "source": [
    "# Backtest"
   ]
  },
  {
   "cell_type": "code",
   "execution_count": 73,
   "metadata": {},
   "outputs": [
    {
     "data": {
      "application/vnd.jupyter.widget-view+json": {
       "model_id": "dfe965382d9a4fb2a255b37f9cc3b8d9",
       "version_major": 2,
       "version_minor": 0
      },
      "text/plain": [
       "Backtesting...:   0%|          | 0/2630 [00:00<?, ?it/s]"
      ]
     },
     "metadata": {},
     "output_type": "display_data"
    },
    {
     "name": "stdout",
     "output_type": "stream",
     "text": [
      "invalid quantity - 0\n",
      "invalid quantity - 0\n"
     ]
    }
   ],
   "source": [
    "from lib import Bank, PositionManager\n",
    "from tqdm.notebook import tqdm\n",
    "import pandas as pd\n",
    "\n",
    "leverage = 1\n",
    "initial_capital = 500000\n",
    "max_positions = 10\n",
    "tp_perc = 8\n",
    "default_bucket_capital = 50000\n",
    "\n",
    "\n",
    "def book_profit(pm: PositionManager, row):\n",
    "    global active_positions, closed_positions, bank\n",
    "    for position in pm.get_active_positions():\n",
    "        stock_data = row[row.Stock == position.stock]\n",
    "        if stock_data.empty:\n",
    "            continue\n",
    "        stock_data = stock_data.iloc[0]\n",
    "        # if stock_data.High >= positon.tp:\n",
    "        #     pm.close_position(positon.stock, stock_data.Date, positon.tp)\n",
    "        #     break\n",
    "        if stock_data.Low <= position.sl:\n",
    "            pm.close_position(position.stock, stock_data.Date, position.sl)\n",
    "            return\n",
    "        \n",
    "        elif (position.sl < position.avg_entry_price) and (stock_data.Close - position.avg_entry_price)/position.avg_entry_price >= 0.02:\n",
    "            position.sl = position.avg_entry_price * 1.01\n",
    "        else:\n",
    "            proposed_sl = stock_data.Close * 0.8\n",
    "            if proposed_sl > position.sl:\n",
    "                position.sl = proposed_sl\n",
    "\n",
    "\n",
    "def backtest(pm: PositionManager):\n",
    "    global active_positions, closed_positions, bank, max_positions\n",
    "    pb = tqdm(total=df.Date.nunique(), desc=\"Backtesting...\")\n",
    "    for idx, row in df.groupby('Date'):\n",
    "        day_signals = signals[signals.Date == idx]\n",
    "        for signal in day_signals.itertuples():\n",
    "            if signal.Stock in pm.get_active_positions():\n",
    "                print(f\"Already in position for {signal.Stock}\")\n",
    "                continue\n",
    "            if not pm.bank.has_capital():\n",
    "                pm.bank.add_capital(default_bucket_capital)\n",
    "            position = pm.new_position(signal.Stock, signal.Entry_Time, signal.upper_threashold)\n",
    "            if position is not None:\n",
    "                position.sl = signal.lower_threashold\n",
    "\n",
    "        book_profit(pm, row)\n",
    "        pb.update(1)\n",
    "    pb.close()\n",
    "                \n",
    "if __name__ == \"__main__\":\n",
    "    bank = Bank(initial_capital, max_positions)\n",
    "    pm = PositionManager(bank, leverage=leverage, tp_perc=tp_perc, sl_perc=100)\n",
    "    backtest(pm)"
   ]
  },
  {
   "cell_type": "code",
   "execution_count": 74,
   "metadata": {},
   "outputs": [],
   "source": [
    "from dataclasses import  asdict\n",
    "trades = pd.DataFrame([asdict(p) for p in pm.closed_positions]).sort_values(['entry_time']).reset_index(drop=True)#.to_csv(f'{root_path}/closed_positions.csv', index=False)"
   ]
  },
  {
   "cell_type": "code",
   "execution_count": 75,
   "metadata": {},
   "outputs": [
    {
     "data": {
      "text/html": [
       "<div>\n",
       "<style scoped>\n",
       "    .dataframe tbody tr th:only-of-type {\n",
       "        vertical-align: middle;\n",
       "    }\n",
       "\n",
       "    .dataframe tbody tr th {\n",
       "        vertical-align: top;\n",
       "    }\n",
       "\n",
       "    .dataframe thead th {\n",
       "        text-align: right;\n",
       "    }\n",
       "</style>\n",
       "<table border=\"1\" class=\"dataframe\">\n",
       "  <thead>\n",
       "    <tr style=\"text-align: right;\">\n",
       "      <th></th>\n",
       "      <th>Metric</th>\n",
       "      <th>Value</th>\n",
       "    </tr>\n",
       "  </thead>\n",
       "  <tbody>\n",
       "    <tr>\n",
       "      <th>0</th>\n",
       "      <td>Period</td>\n",
       "      <td>2015-10-30 to 2025-08-11</td>\n",
       "    </tr>\n",
       "    <tr>\n",
       "      <th>1</th>\n",
       "      <td>Final capital</td>\n",
       "      <td>1318195.36</td>\n",
       "    </tr>\n",
       "    <tr>\n",
       "      <th>2</th>\n",
       "      <td>Total Trades</td>\n",
       "      <td>379</td>\n",
       "    </tr>\n",
       "    <tr>\n",
       "      <th>3</th>\n",
       "      <td>Active Position Count</td>\n",
       "      <td>7</td>\n",
       "    </tr>\n",
       "    <tr>\n",
       "      <th>4</th>\n",
       "      <td>Max holding period (days)</td>\n",
       "      <td>699</td>\n",
       "    </tr>\n",
       "    <tr>\n",
       "      <th>5</th>\n",
       "      <td>Avg holding period (days)</td>\n",
       "      <td>48</td>\n",
       "    </tr>\n",
       "    <tr>\n",
       "      <th>6</th>\n",
       "      <td>Win Rate (%)</td>\n",
       "      <td>79.95</td>\n",
       "    </tr>\n",
       "    <tr>\n",
       "      <th>7</th>\n",
       "      <td>Total Profit</td>\n",
       "      <td>818,195.36</td>\n",
       "    </tr>\n",
       "    <tr>\n",
       "      <th>8</th>\n",
       "      <td>Total Tax</td>\n",
       "      <td>8703.05</td>\n",
       "    </tr>\n",
       "    <tr>\n",
       "      <th>9</th>\n",
       "      <td>CAGR (%)</td>\n",
       "      <td>10.42</td>\n",
       "    </tr>\n",
       "  </tbody>\n",
       "</table>\n",
       "</div>"
      ],
      "text/plain": [
       "                      Metric                     Value\n",
       "0                     Period  2015-10-30 to 2025-08-11\n",
       "1              Final capital                1318195.36\n",
       "2               Total Trades                       379\n",
       "3      Active Position Count                         7\n",
       "4  Max holding period (days)                       699\n",
       "5  Avg holding period (days)                        48\n",
       "6               Win Rate (%)                     79.95\n",
       "7               Total Profit                818,195.36\n",
       "8                  Total Tax                   8703.05\n",
       "9                   CAGR (%)                     10.42"
      ]
     },
     "execution_count": 75,
     "metadata": {},
     "output_type": "execute_result"
    }
   ],
   "source": [
    "import pandas as pd\n",
    "\n",
    "# Ensure entry_time and exit_time are datetime\n",
    "trades['entry_time'] = pd.to_datetime(trades['entry_time'])\n",
    "trades['exit_time'] = pd.to_datetime(trades['exit_time'])\n",
    "\n",
    "# Total trades\n",
    "total_trades = len(trades)\n",
    "\n",
    "# Win rate\n",
    "win_trades = (trades['pnl'] > 0).sum()\n",
    "win_rate = win_trades / total_trades * 100 if total_trades > 0 else 0\n",
    "\n",
    "# Total profit\n",
    "total_profit = trades['pnl'].sum() - trades['tax'].sum()\n",
    "\n",
    "# Total tax\n",
    "total_tax = trades['tax'].sum()\n",
    "\n",
    "# CAGR calculation\n",
    "start = trades['entry_time'].min()\n",
    "end = trades['exit_time'].max()\n",
    "years = (end - start).days / 365.25\n",
    "initial = initial_capital  # initial_capital from your code\n",
    "final = initial + total_profit\n",
    "cagr = ((final / initial) ** (1 / years) - 1) * 100 if years > 0 else None\n",
    "\n",
    "# Active positions\n",
    "active_position_count = sum([len(p.trades) for p in pm.get_active_positions() if p is not None])\n",
    "\n",
    "# Period\n",
    "period = f\"{start.strftime('%Y-%m-%d')} to {end.strftime('%Y-%m-%d')}\"\n",
    "\n",
    "# Max holding period\n",
    "max_holding_period = (trades['exit_time'] - trades['entry_time']).max().days\n",
    "avg_holding_period = (trades['exit_time'] - trades['entry_time']).mean().days\n",
    "\n",
    "# Final capital\n",
    "final_capital = initial + total_profit\n",
    "\n",
    "# Tearsheets summary\n",
    "tearsheet = pd.DataFrame({\n",
    "    'Metric': [\n",
    "        'Period',\n",
    "        'Final capital',\n",
    "        'Total Trades',\n",
    "        'Active Position Count',\n",
    "        'Max holding period (days)',\n",
    "        'Avg holding period (days)',\n",
    "        'Win Rate (%)',\n",
    "        'Total Profit',\n",
    "        'Total Tax',\n",
    "        'CAGR (%)'\n",
    "    ],\n",
    "    'Value': [\n",
    "        period,\n",
    "        f\"{final_capital:.2f}\",\n",
    "        f\"{total_trades:,}\",\n",
    "        f\"{active_position_count:,}\",\n",
    "        f\"{max_holding_period:,}\",\n",
    "        f\"{avg_holding_period:,}\",\n",
    "        f\"{win_rate:.2f}\",\n",
    "        f\"{total_profit:,.2f}\",\n",
    "        f\"{total_tax:.2f}\" if total_tax else \"N/A\",\n",
    "        f\"{cagr:.2f}\" if cagr else \"N/A\"\n",
    "    ]\n",
    "})\n",
    "\n",
    "tearsheet"
   ]
  },
  {
   "cell_type": "code",
   "execution_count": 76,
   "metadata": {},
   "outputs": [
    {
     "data": {
      "text/plain": [
       "<Axes: title={'center': 'Cumulative PnL vs Exit Time'}, xlabel='exit_time'>"
      ]
     },
     "execution_count": 76,
     "metadata": {},
     "output_type": "execute_result"
    },
    {
     "data": {
      "image/png": "[encoded data removed]",
      "text/plain": [
       "<Figure size 1200x600 with 1 Axes>"
      ]
     },
     "metadata": {},
     "output_type": "display_data"
    }
   ],
   "source": [
    "# ...existing code...\n",
    "trades = trades.sort_values(['exit_time']).reset_index(drop=True)\n",
    "trades['cum_pnl'] = trades['pnl'].cumsum()\n",
    "trades.plot(x='exit_time', y='cum_pnl', title='Cumulative PnL vs Exit Time', figsize=(12, 6))"
   ]
  },
  {
   "cell_type": "code",
   "execution_count": 70,
   "metadata": {},
   "outputs": [
    {
     "data": {
      "image/png": "[encoded data removed]",
      "text/plain": [
       "<Figure size 1000x600 with 1 Axes>"
      ]
     },
     "metadata": {},
     "output_type": "display_data"
    }
   ],
   "source": [
    "snapdf = pd.DataFrame(pd.DataFrame(bank.snapshot).max(), columns=['max'])\n",
    "bucdf = pd.DataFrame(bank.bucket_usage_count, index=[0]).T\n",
    "bucket_distribution = pd.concat([snapdf, bucdf], axis=1).rename(columns={0: 'usage_count'}).reset_index().rename(columns={'index': 'bucket_id'})\n",
    "\n",
    "# ...existing code...\n",
    "import matplotlib.pyplot as plt\n",
    "\n",
    "plt.figure(figsize=(10, 6))\n",
    "plt.bar(range(len(bucket_distribution['bucket_id'])), bucket_distribution['max'], edgecolor='black')\n",
    "plt.title('Bar Chart of Bucket Distribution (Max Value)')\n",
    "plt.xlabel('Bucket ID')\n",
    "plt.ylabel('Max Value in Bucket')\n",
    "plt.xticks(rotation=45)\n",
    "plt.show()"
   ]
  },
  {
   "cell_type": "code",
   "execution_count": 71,
   "metadata": {},
   "outputs": [
    {
     "data": {
      "text/plain": [
       "(359,)"
      ]
     },
     "execution_count": 71,
     "metadata": {},
     "output_type": "execute_result"
    }
   ],
   "source": [
    "signals.Date.unique().shape"
   ]
  },
  {
   "cell_type": "code",
   "execution_count": 72,
   "metadata": {},
   "outputs": [
    {
     "data": {
      "text/html": [
       "<div>\n",
       "<style scoped>\n",
       "    .dataframe tbody tr th:only-of-type {\n",
       "        vertical-align: middle;\n",
       "    }\n",
       "\n",
       "    .dataframe tbody tr th {\n",
       "        vertical-align: top;\n",
       "    }\n",
       "\n",
       "    .dataframe thead th {\n",
       "        text-align: right;\n",
       "    }\n",
       "</style>\n",
       "<table border=\"1\" class=\"dataframe\">\n",
       "  <thead>\n",
       "    <tr style=\"text-align: right;\">\n",
       "      <th></th>\n",
       "      <th>stock</th>\n",
       "      <th>entry_time</th>\n",
       "      <th>avg_entry_price</th>\n",
       "      <th>last_entry_price</th>\n",
       "      <th>quantity</th>\n",
       "      <th>exit_time</th>\n",
       "      <th>exit_price</th>\n",
       "      <th>tp</th>\n",
       "      <th>sl</th>\n",
       "      <th>trades</th>\n",
       "      <th>pnl</th>\n",
       "      <th>tax</th>\n",
       "      <th>leverage</th>\n",
       "      <th>mtf_rate_daily</th>\n",
       "      <th>tp_perc</th>\n",
       "      <th>sl_perc</th>\n",
       "      <th>max_mtf_days</th>\n",
       "      <th>cum_pnl</th>\n",
       "    </tr>\n",
       "  </thead>\n",
       "  <tbody>\n",
       "    <tr>\n",
       "      <th>0</th>\n",
       "      <td>NSE:KOTAKBANK-EQ</td>\n",
       "      <td>2015-10-30 05:30:00</td>\n",
       "      <td>683.9200</td>\n",
       "      <td>683.9200</td>\n",
       "      <td>73</td>\n",
       "      <td>2015-11-09 05:30:00</td>\n",
       "      <td>644.080000</td>\n",
       "      <td>726.870176</td>\n",
       "      <td>644.080000</td>\n",
       "      <td>[{'capital_key': '611ad692', 'entry_time': 201...</td>\n",
       "      <td>-2908.320000</td>\n",
       "      <td>19.822237</td>\n",
       "      <td>1</td>\n",
       "      <td>0.000192</td>\n",
       "      <td>6.28</td>\n",
       "      <td>100</td>\n",
       "      <td>100</td>\n",
       "      <td>-2908.320000</td>\n",
       "    </tr>\n",
       "    <tr>\n",
       "      <th>1</th>\n",
       "      <td>NSE:JSWSTEEL-EQ</td>\n",
       "      <td>2015-12-01 05:30:00</td>\n",
       "      <td>92.9266</td>\n",
       "      <td>92.9266</td>\n",
       "      <td>538</td>\n",
       "      <td>2015-11-30 05:30:00</td>\n",
       "      <td>87.513400</td>\n",
       "      <td>98.762390</td>\n",
       "      <td>87.513400</td>\n",
       "      <td>[{'capital_key': '611ad7f0', 'entry_time': 201...</td>\n",
       "      <td>-2912.301600</td>\n",
       "      <td>19.849374</td>\n",
       "      <td>1</td>\n",
       "      <td>0.000192</td>\n",
       "      <td>6.28</td>\n",
       "      <td>100</td>\n",
       "      <td>100</td>\n",
       "      <td>-5820.621600</td>\n",
       "    </tr>\n",
       "    <tr>\n",
       "      <th>2</th>\n",
       "      <td>NSE:TATACOMM-EQ</td>\n",
       "      <td>2015-11-20 05:30:00</td>\n",
       "      <td>434.6600</td>\n",
       "      <td>434.6600</td>\n",
       "      <td>115</td>\n",
       "      <td>2015-12-07 05:30:00</td>\n",
       "      <td>409.340000</td>\n",
       "      <td>461.956648</td>\n",
       "      <td>409.340000</td>\n",
       "      <td>[{'capital_key': '611ad7a0', 'entry_time': 201...</td>\n",
       "      <td>-2911.800000</td>\n",
       "      <td>19.845955</td>\n",
       "      <td>1</td>\n",
       "      <td>0.000192</td>\n",
       "      <td>6.28</td>\n",
       "      <td>100</td>\n",
       "      <td>100</td>\n",
       "      <td>-8732.421600</td>\n",
       "    </tr>\n",
       "    <tr>\n",
       "      <th>3</th>\n",
       "      <td>NSE:ASIANPAINT-EQ</td>\n",
       "      <td>2015-12-07 05:30:00</td>\n",
       "      <td>859.7410</td>\n",
       "      <td>859.7410</td>\n",
       "      <td>54</td>\n",
       "      <td>2015-12-16 05:30:00</td>\n",
       "      <td>868.338410</td>\n",
       "      <td>913.732735</td>\n",
       "      <td>868.338410</td>\n",
       "      <td>[{'capital_key': '611ad7f0', 'entry_time': 201...</td>\n",
       "      <td>464.260140</td>\n",
       "      <td>18.648028</td>\n",
       "      <td>1</td>\n",
       "      <td>0.000192</td>\n",
       "      <td>6.28</td>\n",
       "      <td>100</td>\n",
       "      <td>100</td>\n",
       "      <td>-8268.161460</td>\n",
       "    </tr>\n",
       "    <tr>\n",
       "      <th>4</th>\n",
       "      <td>NSE:IRB-EQ</td>\n",
       "      <td>2016-01-04 05:30:00</td>\n",
       "      <td>25.2247</td>\n",
       "      <td>25.2247</td>\n",
       "      <td>1883</td>\n",
       "      <td>2016-01-05 05:30:00</td>\n",
       "      <td>25.476947</td>\n",
       "      <td>26.808811</td>\n",
       "      <td>25.476947</td>\n",
       "      <td>[{'capital_key': '611ad7f0', 'entry_time': 201...</td>\n",
       "      <td>474.981101</td>\n",
       "      <td>19.078659</td>\n",
       "      <td>1</td>\n",
       "      <td>0.000192</td>\n",
       "      <td>6.28</td>\n",
       "      <td>100</td>\n",
       "      <td>100</td>\n",
       "      <td>-7793.180359</td>\n",
       "    </tr>\n",
       "    <tr>\n",
       "      <th>...</th>\n",
       "      <td>...</td>\n",
       "      <td>...</td>\n",
       "      <td>...</td>\n",
       "      <td>...</td>\n",
       "      <td>...</td>\n",
       "      <td>...</td>\n",
       "      <td>...</td>\n",
       "      <td>...</td>\n",
       "      <td>...</td>\n",
       "      <td>...</td>\n",
       "      <td>...</td>\n",
       "      <td>...</td>\n",
       "      <td>...</td>\n",
       "      <td>...</td>\n",
       "      <td>...</td>\n",
       "      <td>...</td>\n",
       "      <td>...</td>\n",
       "      <td>...</td>\n",
       "    </tr>\n",
       "    <tr>\n",
       "      <th>374</th>\n",
       "      <td>NSE:JSWSTEEL-EQ</td>\n",
       "      <td>2025-05-15 05:30:00</td>\n",
       "      <td>1018.9790</td>\n",
       "      <td>1018.9790</td>\n",
       "      <td>52</td>\n",
       "      <td>2025-07-15 05:30:00</td>\n",
       "      <td>1029.168790</td>\n",
       "      <td>1082.970881</td>\n",
       "      <td>1029.168790</td>\n",
       "      <td>[{'capital_key': '69464716', 'entry_time': 202...</td>\n",
       "      <td>529.869080</td>\n",
       "      <td>21.283355</td>\n",
       "      <td>1</td>\n",
       "      <td>0.000192</td>\n",
       "      <td>6.28</td>\n",
       "      <td>100</td>\n",
       "      <td>100</td>\n",
       "      <td>828308.190681</td>\n",
       "    </tr>\n",
       "    <tr>\n",
       "      <th>375</th>\n",
       "      <td>NSE:NHPC-EQ</td>\n",
       "      <td>2025-07-08 05:30:00</td>\n",
       "      <td>86.9732</td>\n",
       "      <td>86.9732</td>\n",
       "      <td>888</td>\n",
       "      <td>2025-07-17 05:30:00</td>\n",
       "      <td>87.842932</td>\n",
       "      <td>92.435117</td>\n",
       "      <td>87.842932</td>\n",
       "      <td>[{'capital_key': '687295ec', 'entry_time': 202...</td>\n",
       "      <td>772.322016</td>\n",
       "      <td>31.022010</td>\n",
       "      <td>1</td>\n",
       "      <td>0.000192</td>\n",
       "      <td>6.28</td>\n",
       "      <td>100</td>\n",
       "      <td>100</td>\n",
       "      <td>829080.512697</td>\n",
       "    </tr>\n",
       "    <tr>\n",
       "      <th>376</th>\n",
       "      <td>NSE:GRASIM-EQ</td>\n",
       "      <td>2025-06-10 05:30:00</td>\n",
       "      <td>2686.7550</td>\n",
       "      <td>2686.7550</td>\n",
       "      <td>21</td>\n",
       "      <td>2025-07-21 05:30:00</td>\n",
       "      <td>2713.622550</td>\n",
       "      <td>2855.483214</td>\n",
       "      <td>2713.622550</td>\n",
       "      <td>[{'capital_key': '694659ea', 'entry_time': 202...</td>\n",
       "      <td>564.218550</td>\n",
       "      <td>22.663077</td>\n",
       "      <td>1</td>\n",
       "      <td>0.000192</td>\n",
       "      <td>6.28</td>\n",
       "      <td>100</td>\n",
       "      <td>100</td>\n",
       "      <td>829644.731247</td>\n",
       "    </tr>\n",
       "    <tr>\n",
       "      <th>377</th>\n",
       "      <td>NSE:BIOCON-EQ</td>\n",
       "      <td>2025-06-11 05:30:00</td>\n",
       "      <td>351.4360</td>\n",
       "      <td>351.4360</td>\n",
       "      <td>174</td>\n",
       "      <td>2025-08-08 05:30:00</td>\n",
       "      <td>354.950360</td>\n",
       "      <td>373.506181</td>\n",
       "      <td>354.950360</td>\n",
       "      <td>[{'capital_key': '694b602a', 'entry_time': 202...</td>\n",
       "      <td>611.498640</td>\n",
       "      <td>24.562186</td>\n",
       "      <td>1</td>\n",
       "      <td>0.000192</td>\n",
       "      <td>6.28</td>\n",
       "      <td>100</td>\n",
       "      <td>100</td>\n",
       "      <td>830256.229887</td>\n",
       "    </tr>\n",
       "    <tr>\n",
       "      <th>378</th>\n",
       "      <td>NSE:GODREJCP-EQ</td>\n",
       "      <td>2025-07-31 05:30:00</td>\n",
       "      <td>1253.0980</td>\n",
       "      <td>1253.0980</td>\n",
       "      <td>46</td>\n",
       "      <td>2025-08-11 05:30:00</td>\n",
       "      <td>1180.102000</td>\n",
       "      <td>1331.792554</td>\n",
       "      <td>1180.102000</td>\n",
       "      <td>[{'capital_key': '694659ea', 'entry_time': 202...</td>\n",
       "      <td>-3357.816000</td>\n",
       "      <td>22.885867</td>\n",
       "      <td>1</td>\n",
       "      <td>0.000192</td>\n",
       "      <td>6.28</td>\n",
       "      <td>100</td>\n",
       "      <td>100</td>\n",
       "      <td>826898.413887</td>\n",
       "    </tr>\n",
       "  </tbody>\n",
       "</table>\n",
       "<p>379 rows × 18 columns</p>\n",
       "</div>"
      ],
      "text/plain": [
       "                 stock          entry_time  avg_entry_price  last_entry_price  \\\n",
       "0     NSE:KOTAKBANK-EQ 2015-10-30 05:30:00         683.9200          683.9200   \n",
       "1      NSE:JSWSTEEL-EQ 2015-12-01 05:30:00          92.9266           92.9266   \n",
       "2      NSE:TATACOMM-EQ 2015-11-20 05:30:00         434.6600          434.6600   \n",
       "3    NSE:ASIANPAINT-EQ 2015-12-07 05:30:00         859.7410          859.7410   \n",
       "4           NSE:IRB-EQ 2016-01-04 05:30:00          25.2247           25.2247   \n",
       "..                 ...                 ...              ...               ...   \n",
       "374    NSE:JSWSTEEL-EQ 2025-05-15 05:30:00        1018.9790         1018.9790   \n",
       "375        NSE:NHPC-EQ 2025-07-08 05:30:00          86.9732           86.9732   \n",
       "376      NSE:GRASIM-EQ 2025-06-10 05:30:00        2686.7550         2686.7550   \n",
       "377      NSE:BIOCON-EQ 2025-06-11 05:30:00         351.4360          351.4360   \n",
       "378    NSE:GODREJCP-EQ 2025-07-31 05:30:00        1253.0980         1253.0980   \n",
       "\n",
       "     quantity           exit_time   exit_price           tp           sl  \\\n",
       "0          73 2015-11-09 05:30:00   644.080000   726.870176   644.080000   \n",
       "1         538 2015-11-30 05:30:00    87.513400    98.762390    87.513400   \n",
       "2         115 2015-12-07 05:30:00   409.340000   461.956648   409.340000   \n",
       "3          54 2015-12-16 05:30:00   868.338410   913.732735   868.338410   \n",
       "4        1883 2016-01-05 05:30:00    25.476947    26.808811    25.476947   \n",
       "..        ...                 ...          ...          ...          ...   \n",
       "374        52 2025-07-15 05:30:00  1029.168790  1082.970881  1029.168790   \n",
       "375       888 2025-07-17 05:30:00    87.842932    92.435117    87.842932   \n",
       "376        21 2025-07-21 05:30:00  2713.622550  2855.483214  2713.622550   \n",
       "377       174 2025-08-08 05:30:00   354.950360   373.506181   354.950360   \n",
       "378        46 2025-08-11 05:30:00  1180.102000  1331.792554  1180.102000   \n",
       "\n",
       "                                                trades          pnl  \\\n",
       "0    [{'capital_key': '611ad692', 'entry_time': 201... -2908.320000   \n",
       "1    [{'capital_key': '611ad7f0', 'entry_time': 201... -2912.301600   \n",
       "2    [{'capital_key': '611ad7a0', 'entry_time': 201... -2911.800000   \n",
       "3    [{'capital_key': '611ad7f0', 'entry_time': 201...   464.260140   \n",
       "4    [{'capital_key': '611ad7f0', 'entry_time': 201...   474.981101   \n",
       "..                                                 ...          ...   \n",
       "374  [{'capital_key': '69464716', 'entry_time': 202...   529.869080   \n",
       "375  [{'capital_key': '687295ec', 'entry_time': 202...   772.322016   \n",
       "376  [{'capital_key': '694659ea', 'entry_time': 202...   564.218550   \n",
       "377  [{'capital_key': '694b602a', 'entry_time': 202...   611.498640   \n",
       "378  [{'capital_key': '694659ea', 'entry_time': 202... -3357.816000   \n",
       "\n",
       "           tax  leverage  mtf_rate_daily  tp_perc  sl_perc  max_mtf_days  \\\n",
       "0    19.822237         1        0.000192     6.28      100           100   \n",
       "1    19.849374         1        0.000192     6.28      100           100   \n",
       "2    19.845955         1        0.000192     6.28      100           100   \n",
       "3    18.648028         1        0.000192     6.28      100           100   \n",
       "4    19.078659         1        0.000192     6.28      100           100   \n",
       "..         ...       ...             ...      ...      ...           ...   \n",
       "374  21.283355         1        0.000192     6.28      100           100   \n",
       "375  31.022010         1        0.000192     6.28      100           100   \n",
       "376  22.663077         1        0.000192     6.28      100           100   \n",
       "377  24.562186         1        0.000192     6.28      100           100   \n",
       "378  22.885867         1        0.000192     6.28      100           100   \n",
       "\n",
       "           cum_pnl  \n",
       "0     -2908.320000  \n",
       "1     -5820.621600  \n",
       "2     -8732.421600  \n",
       "3     -8268.161460  \n",
       "4     -7793.180359  \n",
       "..             ...  \n",
       "374  828308.190681  \n",
       "375  829080.512697  \n",
       "376  829644.731247  \n",
       "377  830256.229887  \n",
       "378  826898.413887  \n",
       "\n",
       "[379 rows x 18 columns]"
      ]
     },
     "execution_count": 72,
     "metadata": {},
     "output_type": "execute_result"
    }
   ],
   "source": [
    "trades"
   ]
  }
 ],
 "metadata": {
  "colab": {
   "authorship_tag": "ABX9TyOs+u3P0D+KeKQn8d9CdFIf",
   "mount_file_id": "1emSu8CDgOgWv6lScjyRlOx8Zukm4qtFJ",
   "provenance": [
    {
     "file_id": "1ua4CU_bLlvF1uEkt5ACOxL61ymhu6huB",
     "timestamp": 1754922697520
    }
   ]
  },
  "kernelspec": {
   "display_name": ".venv",
   "language": "python",
   "name": "python3"
  },
  "language_info": {
   "codemirror_mode": {
    "name": "ipython",
    "version": 3
   },
   "file_extension": ".py",
   "mimetype": "text/x-python",
   "name": "python",
   "nbconvert_exporter": "python",
   "pygments_lexer": "ipython3",
   "version": "3.10.18"
  }
 },
 "nbformat": 4,
 "nbformat_minor": 0
}
